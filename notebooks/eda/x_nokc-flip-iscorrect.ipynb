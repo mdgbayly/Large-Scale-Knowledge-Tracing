{
 "cells": [
  {
   "cell_type": "code",
   "execution_count": 24,
   "metadata": {
    "collapsed": true
   },
   "outputs": [],
   "source": [
    "# General imports\n",
    "import sys\n",
    "sys.path.append(\"..\")\n",
    "\n",
    "import time\n",
    "import numpy as np\n",
    "import pandas as pd\n",
    "import datetime"
   ]
  },
  {
   "cell_type": "markdown",
   "source": [
    "## Load data"
   ],
   "metadata": {
    "collapsed": false
   }
  },
  {
   "cell_type": "code",
   "execution_count": 34,
   "outputs": [
    {
     "data": {
      "text/plain": "   Unnamed: 0  Unnamed: 0.1  user_id  AttemptId  ObjectId  QuestionNumber  \\\n0           0             0     9755    1390841   1236153               1   \n1           1             1     9755    1390841   1236154               2   \n2           2             2     9755    1390841   1236155               3   \n3           3             3     9755    1390841   1236156               4   \n4           4             4     9755    1390841   1236157               5   \n\n   item_id  TemplateVersionId  OutOf  CollectionId  ...  \\\n0    41582              41753    4.0        115599  ...   \n1    41583              41754    4.0        115599  ...   \n2    41584              41755    4.0        115599  ...   \n3    41585              41756    4.0        115599  ...   \n4    41586              41757    4.0        115599  ...   \n\n                     OrgUnitCode  \\\n0  CS-320-X3950-OL-TRAD-UG.19EW3   \n1  CS-320-X3950-OL-TRAD-UG.19EW3   \n2  CS-320-X3950-OL-TRAD-UG.19EW3   \n3  CS-320-X3950-OL-TRAD-UG.19EW3   \n4  CS-320-X3950-OL-TRAD-UG.19EW3   \n\n                                       OrgUnitName  \\\n0  CS-320-X3950 Software Test Automation& QA 19EW3   \n1  CS-320-X3950 Software Test Automation& QA 19EW3   \n2  CS-320-X3950 Software Test Automation& QA 19EW3   \n3  CS-320-X3950 Software Test Automation& QA 19EW3   \n4  CS-320-X3950 Software Test Automation& QA 19EW3   \n\n                                               QText           AttemptStarted  \\\n0  <p>True or false: Under static software testin...  2019-01-16 05:40:40.090   \n1  <p>Dynamic software testing code is executed a...  2019-01-16 05:40:40.090   \n2  <p>Black-box testing is a dynamic software tes...  2019-01-16 05:40:40.090   \n3  <p>Under white-box testing, the inside details...  2019-01-16 05:40:40.090   \n4  <p>In unit testing, units or modules are teste...  2019-01-16 05:40:40.090   \n\n                      bundle_id         ImputedEventTime     unix_time  \\\n0  2-1 Quiz: Testing Techniques  2019-01-16 05:45:25.053  1.547646e+09   \n1  2-1 Quiz: Testing Techniques  2019-01-16 05:47:34.077  1.547646e+09   \n2  2-1 Quiz: Testing Techniques  2019-01-16 05:55:43.503  1.547647e+09   \n3  2-1 Quiz: Testing Techniques  2019-01-16 05:59:42.433  1.547647e+09   \n4  2-1 Quiz: Testing Techniques  2019-01-16 06:02:29.823  1.547647e+09   \n\n      timestamp  course_id  hashed_skill_id  \n0  3.284699e+07     CS-320                0  \n1  3.284712e+07     CS-320                0  \n2  3.284761e+07     CS-320                0  \n3  3.284785e+07     CS-320                0  \n4  3.284802e+07     CS-320                0  \n\n[5 rows x 22 columns]",
      "text/html": "<div>\n<style scoped>\n    .dataframe tbody tr th:only-of-type {\n        vertical-align: middle;\n    }\n\n    .dataframe tbody tr th {\n        vertical-align: top;\n    }\n\n    .dataframe thead th {\n        text-align: right;\n    }\n</style>\n<table border=\"1\" class=\"dataframe\">\n  <thead>\n    <tr style=\"text-align: right;\">\n      <th></th>\n      <th>Unnamed: 0</th>\n      <th>Unnamed: 0.1</th>\n      <th>user_id</th>\n      <th>AttemptId</th>\n      <th>ObjectId</th>\n      <th>QuestionNumber</th>\n      <th>item_id</th>\n      <th>TemplateVersionId</th>\n      <th>OutOf</th>\n      <th>CollectionId</th>\n      <th>...</th>\n      <th>OrgUnitCode</th>\n      <th>OrgUnitName</th>\n      <th>QText</th>\n      <th>AttemptStarted</th>\n      <th>bundle_id</th>\n      <th>ImputedEventTime</th>\n      <th>unix_time</th>\n      <th>timestamp</th>\n      <th>course_id</th>\n      <th>hashed_skill_id</th>\n    </tr>\n  </thead>\n  <tbody>\n    <tr>\n      <th>0</th>\n      <td>0</td>\n      <td>0</td>\n      <td>9755</td>\n      <td>1390841</td>\n      <td>1236153</td>\n      <td>1</td>\n      <td>41582</td>\n      <td>41753</td>\n      <td>4.0</td>\n      <td>115599</td>\n      <td>...</td>\n      <td>CS-320-X3950-OL-TRAD-UG.19EW3</td>\n      <td>CS-320-X3950 Software Test Automation&amp; QA 19EW3</td>\n      <td>&lt;p&gt;True or false: Under static software testin...</td>\n      <td>2019-01-16 05:40:40.090</td>\n      <td>2-1 Quiz: Testing Techniques</td>\n      <td>2019-01-16 05:45:25.053</td>\n      <td>1.547646e+09</td>\n      <td>3.284699e+07</td>\n      <td>CS-320</td>\n      <td>0</td>\n    </tr>\n    <tr>\n      <th>1</th>\n      <td>1</td>\n      <td>1</td>\n      <td>9755</td>\n      <td>1390841</td>\n      <td>1236154</td>\n      <td>2</td>\n      <td>41583</td>\n      <td>41754</td>\n      <td>4.0</td>\n      <td>115599</td>\n      <td>...</td>\n      <td>CS-320-X3950-OL-TRAD-UG.19EW3</td>\n      <td>CS-320-X3950 Software Test Automation&amp; QA 19EW3</td>\n      <td>&lt;p&gt;Dynamic software testing code is executed a...</td>\n      <td>2019-01-16 05:40:40.090</td>\n      <td>2-1 Quiz: Testing Techniques</td>\n      <td>2019-01-16 05:47:34.077</td>\n      <td>1.547646e+09</td>\n      <td>3.284712e+07</td>\n      <td>CS-320</td>\n      <td>0</td>\n    </tr>\n    <tr>\n      <th>2</th>\n      <td>2</td>\n      <td>2</td>\n      <td>9755</td>\n      <td>1390841</td>\n      <td>1236155</td>\n      <td>3</td>\n      <td>41584</td>\n      <td>41755</td>\n      <td>4.0</td>\n      <td>115599</td>\n      <td>...</td>\n      <td>CS-320-X3950-OL-TRAD-UG.19EW3</td>\n      <td>CS-320-X3950 Software Test Automation&amp; QA 19EW3</td>\n      <td>&lt;p&gt;Black-box testing is a dynamic software tes...</td>\n      <td>2019-01-16 05:40:40.090</td>\n      <td>2-1 Quiz: Testing Techniques</td>\n      <td>2019-01-16 05:55:43.503</td>\n      <td>1.547647e+09</td>\n      <td>3.284761e+07</td>\n      <td>CS-320</td>\n      <td>0</td>\n    </tr>\n    <tr>\n      <th>3</th>\n      <td>3</td>\n      <td>3</td>\n      <td>9755</td>\n      <td>1390841</td>\n      <td>1236156</td>\n      <td>4</td>\n      <td>41585</td>\n      <td>41756</td>\n      <td>4.0</td>\n      <td>115599</td>\n      <td>...</td>\n      <td>CS-320-X3950-OL-TRAD-UG.19EW3</td>\n      <td>CS-320-X3950 Software Test Automation&amp; QA 19EW3</td>\n      <td>&lt;p&gt;Under white-box testing, the inside details...</td>\n      <td>2019-01-16 05:40:40.090</td>\n      <td>2-1 Quiz: Testing Techniques</td>\n      <td>2019-01-16 05:59:42.433</td>\n      <td>1.547647e+09</td>\n      <td>3.284785e+07</td>\n      <td>CS-320</td>\n      <td>0</td>\n    </tr>\n    <tr>\n      <th>4</th>\n      <td>4</td>\n      <td>4</td>\n      <td>9755</td>\n      <td>1390841</td>\n      <td>1236157</td>\n      <td>5</td>\n      <td>41586</td>\n      <td>41757</td>\n      <td>4.0</td>\n      <td>115599</td>\n      <td>...</td>\n      <td>CS-320-X3950-OL-TRAD-UG.19EW3</td>\n      <td>CS-320-X3950 Software Test Automation&amp; QA 19EW3</td>\n      <td>&lt;p&gt;In unit testing, units or modules are teste...</td>\n      <td>2019-01-16 05:40:40.090</td>\n      <td>2-1 Quiz: Testing Techniques</td>\n      <td>2019-01-16 06:02:29.823</td>\n      <td>1.547647e+09</td>\n      <td>3.284802e+07</td>\n      <td>CS-320</td>\n      <td>0</td>\n    </tr>\n  </tbody>\n</table>\n<p>5 rows × 22 columns</p>\n</div>"
     },
     "execution_count": 34,
     "metadata": {},
     "output_type": "execute_result"
    }
   ],
   "source": [
    "data_path = \"../../data/x_nokc/preparation/preprocessed_data.csv\"\n",
    "df = pd.read_csv(data_path, sep=\"\\t\")\n",
    "df.head()"
   ],
   "metadata": {
    "collapsed": false,
    "pycharm": {
     "name": "#%%\n"
    }
   }
  },
  {
   "cell_type": "code",
   "execution_count": 26,
   "outputs": [],
   "source": [
    "pd.set_option('display.max_rows', 300)\n"
   ],
   "metadata": {
    "collapsed": false,
    "pycharm": {
     "name": "#%%\n"
    }
   }
  },
  {
   "cell_type": "code",
   "execution_count": 27,
   "outputs": [
    {
     "data": {
      "text/plain": "Unnamed: 0             int64\nuser_id                int64\nAttemptId              int64\nObjectId               int64\nQuestionNumber         int64\nitem_id                int64\nTemplateVersionId      int64\nOutOf                float64\nCollectionId           int64\nOrgUnitId              int64\ncorrect                int64\nOrgUnitCode           object\nOrgUnitName           object\nQText                 object\nAttemptStarted        object\nbundle_id             object\nImputedEventTime      object\nunix_time            float64\ntimestamp            float64\ncourse_id             object\nhashed_skill_id        int64\ndtype: object"
     },
     "execution_count": 27,
     "metadata": {},
     "output_type": "execute_result"
    }
   ],
   "source": [
    "df.dtypes"
   ],
   "metadata": {
    "collapsed": false,
    "pycharm": {
     "name": "#%%\n"
    }
   }
  },
  {
   "cell_type": "code",
   "execution_count": 28,
   "outputs": [
    {
     "data": {
      "text/plain": "Unnamed: 0           False\nuser_id              False\nAttemptId            False\nObjectId             False\nQuestionNumber       False\nitem_id              False\nTemplateVersionId    False\nOutOf                False\nCollectionId         False\nOrgUnitId            False\ncorrect              False\nOrgUnitCode          False\nOrgUnitName          False\nQText                False\nAttemptStarted       False\nbundle_id            False\nImputedEventTime     False\nunix_time            False\ntimestamp            False\ncourse_id            False\nhashed_skill_id      False\ndtype: bool"
     },
     "execution_count": 28,
     "metadata": {},
     "output_type": "execute_result"
    }
   ],
   "source": [
    "df.isna().any()\n",
    "\n"
   ],
   "metadata": {
    "collapsed": false,
    "pycharm": {
     "name": "#%%\n"
    }
   }
  },
  {
   "cell_type": "code",
   "execution_count": 29,
   "outputs": [],
   "source": [
    "df.loc[(df['correct'] == 1), 'correct'] = 2\n"
   ],
   "metadata": {
    "collapsed": false,
    "pycharm": {
     "name": "#%%\n"
    }
   }
  },
  {
   "cell_type": "code",
   "execution_count": 30,
   "outputs": [],
   "source": [
    "df.loc[(df['correct'] == 0), 'correct'] = 1"
   ],
   "metadata": {
    "collapsed": false,
    "pycharm": {
     "name": "#%%\n"
    }
   }
  },
  {
   "cell_type": "code",
   "execution_count": 31,
   "outputs": [],
   "source": [
    "df.loc[(df['correct'] == 2), 'correct'] = 0"
   ],
   "metadata": {
    "collapsed": false,
    "pycharm": {
     "name": "#%%\n"
    }
   }
  },
  {
   "cell_type": "code",
   "execution_count": null,
   "outputs": [],
   "source": [],
   "metadata": {
    "collapsed": false,
    "pycharm": {
     "name": "#%%\n"
    }
   }
  },
  {
   "cell_type": "code",
   "execution_count": 18,
   "outputs": [],
   "source": [
    "df.loc[(df['correct'] == 1), 'correct'] = 2\n",
    "df.loc[(df['correct'] == 0), 'correct'] = 1\n",
    "df.loc[(df['correct'] == 2), 'correct'] = 0\n"
   ],
   "metadata": {
    "collapsed": false,
    "pycharm": {
     "name": "#%%\n"
    }
   }
  },
  {
   "cell_type": "code",
   "execution_count": 35,
   "outputs": [
    {
     "data": {
      "text/plain": "         Unnamed: 0  Unnamed: 0.1        user_id     AttemptId      ObjectId  \\\ncount  50739.000000  50739.000000   50739.000000  5.073900e+04  5.073900e+04   \nmean   25369.000000  25369.000000  167757.346400  3.922381e+06  3.762865e+06   \nstd    14647.231991  14647.231991   85142.112263  1.107120e+06  1.080996e+06   \nmin        0.000000      0.000000    9755.000000  5.621600e+04  7.079400e+04   \n25%    12684.500000  12684.500000   87525.000000  3.500973e+06  3.412278e+06   \n50%    25369.000000  25369.000000  162421.000000  4.206119e+06  4.066473e+06   \n75%    38053.500000  38053.500000  239937.000000  4.725823e+06  4.406688e+06   \nmax    50738.000000  50738.000000  374372.000000  5.425883e+06  5.247347e+06   \n\n       QuestionNumber        item_id  TemplateVersionId         OutOf  \\\ncount    50739.000000   50739.000000       50739.000000  50739.000000   \nmean         5.732533  112093.452571      124446.378762      2.885926   \nstd          3.157266   61538.136946       67061.550881      0.941124   \nmin          1.000000   41582.000000       41753.000000      1.000000   \n25%          3.000000   58684.000000       60983.000000      2.000000   \n50%          6.000000   58723.000000      135506.000000      3.000000   \n75%          8.000000  164480.000000      181017.000000      3.750000   \nmax         15.000000  207440.000000      226348.000000      4.000000   \n\n        CollectionId      OrgUnitId       correct     unix_time     timestamp  \\\ncount   50739.000000   50739.000000  50739.000000  5.073900e+04  5.073900e+04   \nmean   330296.010150  482341.034510      0.843749  1.593612e+09  7.881252e+07   \nstd     92351.374269  151755.202804      0.363096  1.856686e+07  1.856686e+07   \nmin      4616.000000   17673.000000      0.000000  1.514799e+09  0.000000e+00   \n25%    299812.000000  428704.000000      1.000000  1.588896e+09  7.409687e+07   \n50%    358018.000000  524231.000000      1.000000  1.599457e+09  8.465802e+07   \n75%    385240.000000  576870.000000      1.000000  1.605846e+09  9.104628e+07   \nmax    454338.000000  701407.000000      1.000000  1.615216e+09  1.004167e+08   \n\n       hashed_skill_id  \ncount          50739.0  \nmean               0.0  \nstd                0.0  \nmin                0.0  \n25%                0.0  \n50%                0.0  \n75%                0.0  \nmax                0.0  ",
      "text/html": "<div>\n<style scoped>\n    .dataframe tbody tr th:only-of-type {\n        vertical-align: middle;\n    }\n\n    .dataframe tbody tr th {\n        vertical-align: top;\n    }\n\n    .dataframe thead th {\n        text-align: right;\n    }\n</style>\n<table border=\"1\" class=\"dataframe\">\n  <thead>\n    <tr style=\"text-align: right;\">\n      <th></th>\n      <th>Unnamed: 0</th>\n      <th>Unnamed: 0.1</th>\n      <th>user_id</th>\n      <th>AttemptId</th>\n      <th>ObjectId</th>\n      <th>QuestionNumber</th>\n      <th>item_id</th>\n      <th>TemplateVersionId</th>\n      <th>OutOf</th>\n      <th>CollectionId</th>\n      <th>OrgUnitId</th>\n      <th>correct</th>\n      <th>unix_time</th>\n      <th>timestamp</th>\n      <th>hashed_skill_id</th>\n    </tr>\n  </thead>\n  <tbody>\n    <tr>\n      <th>count</th>\n      <td>50739.000000</td>\n      <td>50739.000000</td>\n      <td>50739.000000</td>\n      <td>5.073900e+04</td>\n      <td>5.073900e+04</td>\n      <td>50739.000000</td>\n      <td>50739.000000</td>\n      <td>50739.000000</td>\n      <td>50739.000000</td>\n      <td>50739.000000</td>\n      <td>50739.000000</td>\n      <td>50739.000000</td>\n      <td>5.073900e+04</td>\n      <td>5.073900e+04</td>\n      <td>50739.0</td>\n    </tr>\n    <tr>\n      <th>mean</th>\n      <td>25369.000000</td>\n      <td>25369.000000</td>\n      <td>167757.346400</td>\n      <td>3.922381e+06</td>\n      <td>3.762865e+06</td>\n      <td>5.732533</td>\n      <td>112093.452571</td>\n      <td>124446.378762</td>\n      <td>2.885926</td>\n      <td>330296.010150</td>\n      <td>482341.034510</td>\n      <td>0.843749</td>\n      <td>1.593612e+09</td>\n      <td>7.881252e+07</td>\n      <td>0.0</td>\n    </tr>\n    <tr>\n      <th>std</th>\n      <td>14647.231991</td>\n      <td>14647.231991</td>\n      <td>85142.112263</td>\n      <td>1.107120e+06</td>\n      <td>1.080996e+06</td>\n      <td>3.157266</td>\n      <td>61538.136946</td>\n      <td>67061.550881</td>\n      <td>0.941124</td>\n      <td>92351.374269</td>\n      <td>151755.202804</td>\n      <td>0.363096</td>\n      <td>1.856686e+07</td>\n      <td>1.856686e+07</td>\n      <td>0.0</td>\n    </tr>\n    <tr>\n      <th>min</th>\n      <td>0.000000</td>\n      <td>0.000000</td>\n      <td>9755.000000</td>\n      <td>5.621600e+04</td>\n      <td>7.079400e+04</td>\n      <td>1.000000</td>\n      <td>41582.000000</td>\n      <td>41753.000000</td>\n      <td>1.000000</td>\n      <td>4616.000000</td>\n      <td>17673.000000</td>\n      <td>0.000000</td>\n      <td>1.514799e+09</td>\n      <td>0.000000e+00</td>\n      <td>0.0</td>\n    </tr>\n    <tr>\n      <th>25%</th>\n      <td>12684.500000</td>\n      <td>12684.500000</td>\n      <td>87525.000000</td>\n      <td>3.500973e+06</td>\n      <td>3.412278e+06</td>\n      <td>3.000000</td>\n      <td>58684.000000</td>\n      <td>60983.000000</td>\n      <td>2.000000</td>\n      <td>299812.000000</td>\n      <td>428704.000000</td>\n      <td>1.000000</td>\n      <td>1.588896e+09</td>\n      <td>7.409687e+07</td>\n      <td>0.0</td>\n    </tr>\n    <tr>\n      <th>50%</th>\n      <td>25369.000000</td>\n      <td>25369.000000</td>\n      <td>162421.000000</td>\n      <td>4.206119e+06</td>\n      <td>4.066473e+06</td>\n      <td>6.000000</td>\n      <td>58723.000000</td>\n      <td>135506.000000</td>\n      <td>3.000000</td>\n      <td>358018.000000</td>\n      <td>524231.000000</td>\n      <td>1.000000</td>\n      <td>1.599457e+09</td>\n      <td>8.465802e+07</td>\n      <td>0.0</td>\n    </tr>\n    <tr>\n      <th>75%</th>\n      <td>38053.500000</td>\n      <td>38053.500000</td>\n      <td>239937.000000</td>\n      <td>4.725823e+06</td>\n      <td>4.406688e+06</td>\n      <td>8.000000</td>\n      <td>164480.000000</td>\n      <td>181017.000000</td>\n      <td>3.750000</td>\n      <td>385240.000000</td>\n      <td>576870.000000</td>\n      <td>1.000000</td>\n      <td>1.605846e+09</td>\n      <td>9.104628e+07</td>\n      <td>0.0</td>\n    </tr>\n    <tr>\n      <th>max</th>\n      <td>50738.000000</td>\n      <td>50738.000000</td>\n      <td>374372.000000</td>\n      <td>5.425883e+06</td>\n      <td>5.247347e+06</td>\n      <td>15.000000</td>\n      <td>207440.000000</td>\n      <td>226348.000000</td>\n      <td>4.000000</td>\n      <td>454338.000000</td>\n      <td>701407.000000</td>\n      <td>1.000000</td>\n      <td>1.615216e+09</td>\n      <td>1.004167e+08</td>\n      <td>0.0</td>\n    </tr>\n  </tbody>\n</table>\n</div>"
     },
     "execution_count": 35,
     "metadata": {},
     "output_type": "execute_result"
    }
   ],
   "source": [
    "df.describe()"
   ],
   "metadata": {
    "collapsed": false,
    "pycharm": {
     "name": "#%%\n"
    }
   }
  },
  {
   "cell_type": "code",
   "execution_count": 33,
   "outputs": [],
   "source": [
    "df.to_csv(data_path, sep=\"\\t\")"
   ],
   "metadata": {
    "collapsed": false,
    "pycharm": {
     "name": "#%%\n"
    }
   }
  },
  {
   "cell_type": "code",
   "execution_count": null,
   "outputs": [],
   "source": [],
   "metadata": {
    "collapsed": false,
    "pycharm": {
     "name": "#%%\n"
    }
   }
  }
 ],
 "metadata": {
  "kernelspec": {
   "display_name": "Python 3",
   "language": "python",
   "name": "python3"
  },
  "language_info": {
   "codemirror_mode": {
    "name": "ipython",
    "version": 2
   },
   "file_extension": ".py",
   "mimetype": "text/x-python",
   "name": "python",
   "nbconvert_exporter": "python",
   "pygments_lexer": "ipython2",
   "version": "2.7.6"
  }
 },
 "nbformat": 4,
 "nbformat_minor": 0
}