{
 "cells": [
  {
   "cell_type": "code",
   "execution_count": 1,
   "metadata": {
    "collapsed": true
   },
   "outputs": [],
   "source": [
    "# General imports\n",
    "import sys\n",
    "sys.path.append(\"..\")\n",
    "\n",
    "import pandas as pd"
   ]
  },
  {
   "cell_type": "markdown",
   "source": [
    "## Load data"
   ],
   "metadata": {
    "collapsed": false
   }
  },
  {
   "cell_type": "code",
   "execution_count": 2,
   "outputs": [
    {
     "data": {
      "text/plain": "   UserId  AttemptId  ObjectId  QuestionNumber  QuestionId  TemplateVersionId  \\\n0   91920    4407040   4071650               1       41582              41753   \n1  146213    4353694   4066771               1       41582              41753   \n2  237884    4348067   4071650               1       41582              41753   \n3  183317    4340813   4141045               1       41582              41753   \n4  111146    4318799   4066771               1       41582              41753   \n\n   Score  OutOf                EventTime            TimeCompleted  QuizId  \\\n0    4.0    4.0  2020-10-08 01:04:43.013  2020-10-09 02:49:38.613  358348   \n1    4.0    4.0  2020-09-28 04:12:43.203  2020-09-28 04:26:05.870  358039   \n2    4.0    4.0  2020-09-27 19:19:58.530  2020-09-27 19:25:55.180  358348   \n3    4.0    4.0  2020-09-26 01:27:10.560  2020-09-26 01:32:00.460  361937   \n4    4.0    4.0  2020-09-21 04:23:35.520  2020-09-21 04:29:43.670  358039   \n\n   CourseId  IsCorrect                     CourseCode  \\\n0    522926          1  CS-320-J1906-OL-TRAD-UG.20EW1   \n1    522939          1  CS-320-T1592-OL-TRAD-UG.20EW1   \n2    522926          1  CS-320-J1906-OL-TRAD-UG.20EW1   \n3    522933          1  CS-320-T1591-OL-TRAD-UG.20EW1   \n4    522939          1  CS-320-T1592-OL-TRAD-UG.20EW1   \n\n                                        CourseName  \\\n0  CS-320-J1906 Software Test Automation& QA 20EW1   \n1  CS-320-T1592 Software Test Automation& QA 20EW1   \n2  CS-320-J1906 Software Test Automation& QA 20EW1   \n3  CS-320-T1591 Software Test Automation& QA 20EW1   \n4  CS-320-T1592 Software Test Automation& QA 20EW1   \n\n                                               QText           AttemptStarted  \\\n0  <p>True or false: Under static software testin...  2020-10-08 01:00:40.677   \n1  <p>True or false: Under static software testin...  2020-09-28 04:11:15.687   \n2  <p>True or false: Under static software testin...  2020-09-27 19:19:38.347   \n3  <p>True or false: Under static software testin...  2020-09-26 01:27:03.100   \n4  <p>True or false: Under static software testin...  2020-09-21 04:17:58.057   \n\n          AttemptCompleted                      QuizName  \n0  2020-10-09 02:49:41.767  2-1 Quiz: Testing Techniques  \n1  2020-09-28 04:26:07.610  2-1 Quiz: Testing Techniques  \n2  2020-09-27 19:25:56.670  2-1 Quiz: Testing Techniques  \n3  2020-09-26 01:32:03.010  2-1 Quiz: Testing Techniques  \n4  2020-09-21 04:29:58.070  2-1 Quiz: Testing Techniques  ",
      "text/html": "<div>\n<style scoped>\n    .dataframe tbody tr th:only-of-type {\n        vertical-align: middle;\n    }\n\n    .dataframe tbody tr th {\n        vertical-align: top;\n    }\n\n    .dataframe thead th {\n        text-align: right;\n    }\n</style>\n<table border=\"1\" class=\"dataframe\">\n  <thead>\n    <tr style=\"text-align: right;\">\n      <th></th>\n      <th>UserId</th>\n      <th>AttemptId</th>\n      <th>ObjectId</th>\n      <th>QuestionNumber</th>\n      <th>QuestionId</th>\n      <th>TemplateVersionId</th>\n      <th>Score</th>\n      <th>OutOf</th>\n      <th>EventTime</th>\n      <th>TimeCompleted</th>\n      <th>QuizId</th>\n      <th>CourseId</th>\n      <th>IsCorrect</th>\n      <th>CourseCode</th>\n      <th>CourseName</th>\n      <th>QText</th>\n      <th>AttemptStarted</th>\n      <th>AttemptCompleted</th>\n      <th>QuizName</th>\n    </tr>\n  </thead>\n  <tbody>\n    <tr>\n      <th>0</th>\n      <td>91920</td>\n      <td>4407040</td>\n      <td>4071650</td>\n      <td>1</td>\n      <td>41582</td>\n      <td>41753</td>\n      <td>4.0</td>\n      <td>4.0</td>\n      <td>2020-10-08 01:04:43.013</td>\n      <td>2020-10-09 02:49:38.613</td>\n      <td>358348</td>\n      <td>522926</td>\n      <td>1</td>\n      <td>CS-320-J1906-OL-TRAD-UG.20EW1</td>\n      <td>CS-320-J1906 Software Test Automation&amp; QA 20EW1</td>\n      <td>&lt;p&gt;True or false: Under static software testin...</td>\n      <td>2020-10-08 01:00:40.677</td>\n      <td>2020-10-09 02:49:41.767</td>\n      <td>2-1 Quiz: Testing Techniques</td>\n    </tr>\n    <tr>\n      <th>1</th>\n      <td>146213</td>\n      <td>4353694</td>\n      <td>4066771</td>\n      <td>1</td>\n      <td>41582</td>\n      <td>41753</td>\n      <td>4.0</td>\n      <td>4.0</td>\n      <td>2020-09-28 04:12:43.203</td>\n      <td>2020-09-28 04:26:05.870</td>\n      <td>358039</td>\n      <td>522939</td>\n      <td>1</td>\n      <td>CS-320-T1592-OL-TRAD-UG.20EW1</td>\n      <td>CS-320-T1592 Software Test Automation&amp; QA 20EW1</td>\n      <td>&lt;p&gt;True or false: Under static software testin...</td>\n      <td>2020-09-28 04:11:15.687</td>\n      <td>2020-09-28 04:26:07.610</td>\n      <td>2-1 Quiz: Testing Techniques</td>\n    </tr>\n    <tr>\n      <th>2</th>\n      <td>237884</td>\n      <td>4348067</td>\n      <td>4071650</td>\n      <td>1</td>\n      <td>41582</td>\n      <td>41753</td>\n      <td>4.0</td>\n      <td>4.0</td>\n      <td>2020-09-27 19:19:58.530</td>\n      <td>2020-09-27 19:25:55.180</td>\n      <td>358348</td>\n      <td>522926</td>\n      <td>1</td>\n      <td>CS-320-J1906-OL-TRAD-UG.20EW1</td>\n      <td>CS-320-J1906 Software Test Automation&amp; QA 20EW1</td>\n      <td>&lt;p&gt;True or false: Under static software testin...</td>\n      <td>2020-09-27 19:19:38.347</td>\n      <td>2020-09-27 19:25:56.670</td>\n      <td>2-1 Quiz: Testing Techniques</td>\n    </tr>\n    <tr>\n      <th>3</th>\n      <td>183317</td>\n      <td>4340813</td>\n      <td>4141045</td>\n      <td>1</td>\n      <td>41582</td>\n      <td>41753</td>\n      <td>4.0</td>\n      <td>4.0</td>\n      <td>2020-09-26 01:27:10.560</td>\n      <td>2020-09-26 01:32:00.460</td>\n      <td>361937</td>\n      <td>522933</td>\n      <td>1</td>\n      <td>CS-320-T1591-OL-TRAD-UG.20EW1</td>\n      <td>CS-320-T1591 Software Test Automation&amp; QA 20EW1</td>\n      <td>&lt;p&gt;True or false: Under static software testin...</td>\n      <td>2020-09-26 01:27:03.100</td>\n      <td>2020-09-26 01:32:03.010</td>\n      <td>2-1 Quiz: Testing Techniques</td>\n    </tr>\n    <tr>\n      <th>4</th>\n      <td>111146</td>\n      <td>4318799</td>\n      <td>4066771</td>\n      <td>1</td>\n      <td>41582</td>\n      <td>41753</td>\n      <td>4.0</td>\n      <td>4.0</td>\n      <td>2020-09-21 04:23:35.520</td>\n      <td>2020-09-21 04:29:43.670</td>\n      <td>358039</td>\n      <td>522939</td>\n      <td>1</td>\n      <td>CS-320-T1592-OL-TRAD-UG.20EW1</td>\n      <td>CS-320-T1592 Software Test Automation&amp; QA 20EW1</td>\n      <td>&lt;p&gt;True or false: Under static software testin...</td>\n      <td>2020-09-21 04:17:58.057</td>\n      <td>2020-09-21 04:29:58.070</td>\n      <td>2-1 Quiz: Testing Techniques</td>\n    </tr>\n  </tbody>\n</table>\n</div>"
     },
     "execution_count": 2,
     "metadata": {},
     "output_type": "execute_result"
    }
   ],
   "source": [
    "data_path_raw = \"../../data/x_nokc/CS-Question-Results6.csv\"\n",
    "df_raw = pd.read_csv(data_path_raw)\n",
    "df_raw.head()"
   ],
   "metadata": {
    "collapsed": false,
    "pycharm": {
     "name": "#%%\n"
    }
   }
  },
  {
   "cell_type": "code",
   "execution_count": 3,
   "outputs": [
    {
     "data": {
      "text/plain": "array(['CS-320-J1906-OL-TRAD-UG.20EW1', 'CS-320-T1592-OL-TRAD-UG.20EW1',\n       'CS-320-T1591-OL-TRAD-UG.20EW1', 'CS-320-H1152-OL-TRAD-UG.20EW1',\n       'CS-320-T1590-OL-TRAD-UG.20EW1', 'CS-320-T1593-OL-TRAD-UG.20EW1',\n       'CS-320-J6601-OL-TRAD-UG.20EW6', 'CS-320-J5704-OL-TRAD-UG.20EW5',\n       'CS-320-J6602-OL-TRAD-UG.20EW6', 'CS-320-Q5397-OL-TRAD-UG.20EW5',\n       'CS-320-J5706-OL-TRAD-UG.20EW5', 'CS-320-J5707-OL-TRAD-UG.20EW5',\n       'CS-320-H5001-OL-TRAD-UG.20EW5', 'CS-320-J5705-OL-TRAD-UG.20EW5',\n       'CS-320-J3574-OL-TRAD-UG.20EW3', 'CS-320-J3493-OL-TRAD-UG.20EW3',\n       'CS-320-Q3397-OL-TRAD-UG.20EW3', 'CS-320-J3285-OL-TRAD-UG.20EW3',\n       'CS-320-J3284-OL-TRAD-UG.20EW3', 'CS-320-X1985-OL-TRAD-UG.19EW1',\n       'CS-320-J1390-OL-TRAD-UG.19EW1', 'CS-320-J1229-OL-TRAD-UG.19EW1',\n       'CS-320-Q1397-OL-TRAD-UG.19EW1', 'CS-320-X1984-OL-TRAD-UG.19EW1',\n       'CS-320-J5238-OL-TRAD-UG.19EW5', 'CS-320-Q5078-OL-TRAD-UG.19EW5',\n       'CS-320-J5220-OL-TRAD-UG.19EW5', 'CS-320-Q3078-OL-TRAD-UG.19EW3',\n       'CS-320-X3950-OL-TRAD-UG.19EW3', 'CS-320-J3479-OL-TRAD-UG.19EW3',\n       'CS-320-Q1073-OL-TRAD-UG.18EW1', 'CS-320-X1964-OL-TRAD-UG.18EW1',\n       'CS-320-Q5076-OL-TRAD-UG.18EW5', 'CS-320-Q3074-OL-TRAD-UG.18EW3',\n       'CS-410-Q5083-OL-TRAD-UG.19EW5', 'CS-410-Q3083-OL-TRAD-UG.19EW3',\n       'CS-410-Q1078-OL-TRAD-UG.18EW1', 'CS-410-Q1402-OL-TRAD-UG.19EW1',\n       'CS-410-Q3402-OL-TRAD-UG.20EW3', 'CS-410-Q5402-OL-TRAD-UG.20EW5',\n       'CS-410-J5821-OL-TRAD-UG.20EW5', 'CS-410-J1627-OL-TRAD-UG.20EW1',\n       'CS-410-X2887-OL-TRAD-UG.20EW2', 'CS-410-J1744-OL-TRAD-UG.20EW1',\n       'CS-230-H2251-OL-TRAD-UG.20EW2', 'CS-230-H3785-OL-TRAD-UG.21EW3',\n       'CS-230-T3191-OL-TRAD-UG.21EW3', 'CS-230-T3194-OL-TRAD-UG.21EW3',\n       'CS-230-H3293-OL-TRAD-UG.21EW3', 'CS-230-T3193-OL-TRAD-UG.21EW3',\n       'CS-230-H3958-OL-TRAD-UG.21EW3', 'CS-230-T3192-OL-TRAD-UG.21EW3',\n       'CS-230-T4081-OL-TRAD-UG.21EW4', 'CS-230-H4865-OL-TRAD-UG.21EW4',\n       'CS-230-H4756-OL-TRAD-UG.21EW4', 'CS-230-T4253-OL-TRAD-UG.21EW4',\n       'CS-230-T4256-OL-TRAD-UG.21EW4', 'CS-230-T4250-OL-TRAD-UG.21EW4',\n       'CS-230-T4259-OL-TRAD-UG.21EW4', 'CS-230-H7110-OL-TRAD-UG.21EW4',\n       'CS-230-X2115-OL-TRAD-UG.20EW2', 'CS-230-X2113-OL-TRAD-UG.20EW2',\n       'CS-230-H2259-OL-TRAD-UG.20EW2', 'CS-230-X2114-OL-TRAD-UG.20EW2',\n       'CS-230-H1113-OL-TRAD-UG.20EW1', 'CS-230-Q1505-OL-TRAD-UG.20EW1',\n       'CS-230-Q1504-OL-TRAD-UG.20EW1', 'CS-230-J1886-OL-TRAD-UG.20EW1',\n       'CS-230-T6600-OL-TRAD-UG.20EW6', 'CS-230-H6019-OL-TRAD-UG.20EW6',\n       'CS-230-J6916-OL-TRAD-UG.20EW6', 'CS-230-T6601-OL-TRAD-UG.20EW6',\n       'CS-230-Q5953-OL-TRAD-UG.20EW5', 'CS-230-Q5954-OL-TRAD-UG.20EW5',\n       'CS-230-J4458-OL-TRAD-UG.20EW4', 'CS-230-J3533-OL-TRAD-UG.20EW3',\n       'CS-255-J4459-OL-TRAD-UG.20EW4', 'CS-255-J5815-OL-TRAD-UG.20EW5',\n       'CS-255-T6603-OL-TRAD-UG.20EW6', 'CS-255-T6602-OL-TRAD-UG.20EW6',\n       'CS-255-Q1512-OL-TRAD-UG.20EW1', 'CS-255-Q1513-OL-TRAD-UG.20EW1',\n       'CS-255-H2252-OL-TRAD-UG.20EW2', 'CS-255-X2125-OL-TRAD-UG.20EW2',\n       'CS-255-X2124-OL-TRAD-UG.20EW2', 'CS-255-T3204-OL-TRAD-UG.21EW3',\n       'CS-255-T3203-OL-TRAD-UG.21EW3', 'CS-255-H3146-OL-TRAD-UG.21EW3',\n       'CS-255-T4168-OL-TRAD-UG.21EW4', 'CS-255-T4082-OL-TRAD-UG.21EW4',\n       'CS-255-T4158-OL-TRAD-UG.21EW4', 'CS-465-T3250-OL-TRAD-UG.21EW3',\n       'CS-465-X2146-OL-TRAD-UG.20EW2', 'CS-465-T4073-OL-TRAD-UG.21EW4',\n       'CS-465-Q1523-OL-TRAD-UG.20EW1', 'CS-465-J6531-OL-TRAD-UG.20EW6',\n       'CS-465-J5811-OL-TRAD-UG.20EW5', 'CS-320-T2994-OL-TRAD-UG.20EW2',\n       'CS-320-T2993-OL-TRAD-UG.20EW2', 'CS-320-H2213-OL-TRAD-UG.20EW2',\n       'CS-320-T3226-OL-TRAD-UG.21EW3', 'CS-320-T3228-OL-TRAD-UG.21EW3',\n       'CS-320-T3224-OL-TRAD-UG.21EW3', 'CS-320-T3225-OL-TRAD-UG.21EW3',\n       'CS-320-J3953-OL-TRAD-UG.21EW3', 'CS-320-T3229-OL-TRAD-UG.21EW3',\n       'CS-320-T4209-OL-TRAD-UG.21EW4', 'CS-320-T4215-OL-TRAD-UG.21EW4'],\n      dtype=object)"
     },
     "execution_count": 3,
     "metadata": {},
     "output_type": "execute_result"
    }
   ],
   "source": [
    "df_raw['CourseCode'].unique()"
   ],
   "metadata": {
    "collapsed": false,
    "pycharm": {
     "name": "#%%\n"
    }
   }
  },
  {
   "cell_type": "code",
   "execution_count": 4,
   "outputs": [
    {
     "data": {
      "text/plain": "   Unnamed: 0  Unnamed: 0.1  user_id  AttemptId  ObjectId  QuestionNumber  \\\n0           0             0     9755    1390841   1236153               1   \n1           1             1     9755    1390841   1236154               2   \n2           2             2     9755    1390841   1236155               3   \n3           3             3     9755    1390841   1236156               4   \n4           4             4     9755    1390841   1236157               5   \n\n   item_id  TemplateVersionId  OutOf  CollectionId  ...  \\\n0    41582              41753    4.0        115599  ...   \n1    41583              41754    4.0        115599  ...   \n2    41584              41755    4.0        115599  ...   \n3    41585              41756    4.0        115599  ...   \n4    41586              41757    4.0        115599  ...   \n\n                     OrgUnitCode  \\\n0  CS-320-X3950-OL-TRAD-UG.19EW3   \n1  CS-320-X3950-OL-TRAD-UG.19EW3   \n2  CS-320-X3950-OL-TRAD-UG.19EW3   \n3  CS-320-X3950-OL-TRAD-UG.19EW3   \n4  CS-320-X3950-OL-TRAD-UG.19EW3   \n\n                                       OrgUnitName  \\\n0  CS-320-X3950 Software Test Automation& QA 19EW3   \n1  CS-320-X3950 Software Test Automation& QA 19EW3   \n2  CS-320-X3950 Software Test Automation& QA 19EW3   \n3  CS-320-X3950 Software Test Automation& QA 19EW3   \n4  CS-320-X3950 Software Test Automation& QA 19EW3   \n\n                                               QText           AttemptStarted  \\\n0  <p>True or false: Under static software testin...  2019-01-16 05:40:40.090   \n1  <p>Dynamic software testing code is executed a...  2019-01-16 05:40:40.090   \n2  <p>Black-box testing is a dynamic software tes...  2019-01-16 05:40:40.090   \n3  <p>Under white-box testing, the inside details...  2019-01-16 05:40:40.090   \n4  <p>In unit testing, units or modules are teste...  2019-01-16 05:40:40.090   \n\n                      bundle_id         ImputedEventTime     unix_time  \\\n0  2-1 Quiz: Testing Techniques  2019-01-16 05:45:25.053  1.547646e+09   \n1  2-1 Quiz: Testing Techniques  2019-01-16 05:47:34.077  1.547646e+09   \n2  2-1 Quiz: Testing Techniques  2019-01-16 05:55:43.503  1.547647e+09   \n3  2-1 Quiz: Testing Techniques  2019-01-16 05:59:42.433  1.547647e+09   \n4  2-1 Quiz: Testing Techniques  2019-01-16 06:02:29.823  1.547647e+09   \n\n      timestamp  course_id  hashed_skill_id  \n0  3.284699e+07     CS-320                0  \n1  3.284712e+07     CS-320                0  \n2  3.284761e+07     CS-320                0  \n3  3.284785e+07     CS-320                0  \n4  3.284802e+07     CS-320                0  \n\n[5 rows x 22 columns]",
      "text/html": "<div>\n<style scoped>\n    .dataframe tbody tr th:only-of-type {\n        vertical-align: middle;\n    }\n\n    .dataframe tbody tr th {\n        vertical-align: top;\n    }\n\n    .dataframe thead th {\n        text-align: right;\n    }\n</style>\n<table border=\"1\" class=\"dataframe\">\n  <thead>\n    <tr style=\"text-align: right;\">\n      <th></th>\n      <th>Unnamed: 0</th>\n      <th>Unnamed: 0.1</th>\n      <th>user_id</th>\n      <th>AttemptId</th>\n      <th>ObjectId</th>\n      <th>QuestionNumber</th>\n      <th>item_id</th>\n      <th>TemplateVersionId</th>\n      <th>OutOf</th>\n      <th>CollectionId</th>\n      <th>...</th>\n      <th>OrgUnitCode</th>\n      <th>OrgUnitName</th>\n      <th>QText</th>\n      <th>AttemptStarted</th>\n      <th>bundle_id</th>\n      <th>ImputedEventTime</th>\n      <th>unix_time</th>\n      <th>timestamp</th>\n      <th>course_id</th>\n      <th>hashed_skill_id</th>\n    </tr>\n  </thead>\n  <tbody>\n    <tr>\n      <th>0</th>\n      <td>0</td>\n      <td>0</td>\n      <td>9755</td>\n      <td>1390841</td>\n      <td>1236153</td>\n      <td>1</td>\n      <td>41582</td>\n      <td>41753</td>\n      <td>4.0</td>\n      <td>115599</td>\n      <td>...</td>\n      <td>CS-320-X3950-OL-TRAD-UG.19EW3</td>\n      <td>CS-320-X3950 Software Test Automation&amp; QA 19EW3</td>\n      <td>&lt;p&gt;True or false: Under static software testin...</td>\n      <td>2019-01-16 05:40:40.090</td>\n      <td>2-1 Quiz: Testing Techniques</td>\n      <td>2019-01-16 05:45:25.053</td>\n      <td>1.547646e+09</td>\n      <td>3.284699e+07</td>\n      <td>CS-320</td>\n      <td>0</td>\n    </tr>\n    <tr>\n      <th>1</th>\n      <td>1</td>\n      <td>1</td>\n      <td>9755</td>\n      <td>1390841</td>\n      <td>1236154</td>\n      <td>2</td>\n      <td>41583</td>\n      <td>41754</td>\n      <td>4.0</td>\n      <td>115599</td>\n      <td>...</td>\n      <td>CS-320-X3950-OL-TRAD-UG.19EW3</td>\n      <td>CS-320-X3950 Software Test Automation&amp; QA 19EW3</td>\n      <td>&lt;p&gt;Dynamic software testing code is executed a...</td>\n      <td>2019-01-16 05:40:40.090</td>\n      <td>2-1 Quiz: Testing Techniques</td>\n      <td>2019-01-16 05:47:34.077</td>\n      <td>1.547646e+09</td>\n      <td>3.284712e+07</td>\n      <td>CS-320</td>\n      <td>0</td>\n    </tr>\n    <tr>\n      <th>2</th>\n      <td>2</td>\n      <td>2</td>\n      <td>9755</td>\n      <td>1390841</td>\n      <td>1236155</td>\n      <td>3</td>\n      <td>41584</td>\n      <td>41755</td>\n      <td>4.0</td>\n      <td>115599</td>\n      <td>...</td>\n      <td>CS-320-X3950-OL-TRAD-UG.19EW3</td>\n      <td>CS-320-X3950 Software Test Automation&amp; QA 19EW3</td>\n      <td>&lt;p&gt;Black-box testing is a dynamic software tes...</td>\n      <td>2019-01-16 05:40:40.090</td>\n      <td>2-1 Quiz: Testing Techniques</td>\n      <td>2019-01-16 05:55:43.503</td>\n      <td>1.547647e+09</td>\n      <td>3.284761e+07</td>\n      <td>CS-320</td>\n      <td>0</td>\n    </tr>\n    <tr>\n      <th>3</th>\n      <td>3</td>\n      <td>3</td>\n      <td>9755</td>\n      <td>1390841</td>\n      <td>1236156</td>\n      <td>4</td>\n      <td>41585</td>\n      <td>41756</td>\n      <td>4.0</td>\n      <td>115599</td>\n      <td>...</td>\n      <td>CS-320-X3950-OL-TRAD-UG.19EW3</td>\n      <td>CS-320-X3950 Software Test Automation&amp; QA 19EW3</td>\n      <td>&lt;p&gt;Under white-box testing, the inside details...</td>\n      <td>2019-01-16 05:40:40.090</td>\n      <td>2-1 Quiz: Testing Techniques</td>\n      <td>2019-01-16 05:59:42.433</td>\n      <td>1.547647e+09</td>\n      <td>3.284785e+07</td>\n      <td>CS-320</td>\n      <td>0</td>\n    </tr>\n    <tr>\n      <th>4</th>\n      <td>4</td>\n      <td>4</td>\n      <td>9755</td>\n      <td>1390841</td>\n      <td>1236157</td>\n      <td>5</td>\n      <td>41586</td>\n      <td>41757</td>\n      <td>4.0</td>\n      <td>115599</td>\n      <td>...</td>\n      <td>CS-320-X3950-OL-TRAD-UG.19EW3</td>\n      <td>CS-320-X3950 Software Test Automation&amp; QA 19EW3</td>\n      <td>&lt;p&gt;In unit testing, units or modules are teste...</td>\n      <td>2019-01-16 05:40:40.090</td>\n      <td>2-1 Quiz: Testing Techniques</td>\n      <td>2019-01-16 06:02:29.823</td>\n      <td>1.547647e+09</td>\n      <td>3.284802e+07</td>\n      <td>CS-320</td>\n      <td>0</td>\n    </tr>\n  </tbody>\n</table>\n<p>5 rows × 22 columns</p>\n</div>"
     },
     "execution_count": 4,
     "metadata": {},
     "output_type": "execute_result"
    }
   ],
   "source": [
    "data_path = \"../../data/x_nokc/preparation/preprocessed_data.csv\"\n",
    "df = pd.read_csv(data_path, sep=\"\\t\")\n",
    "df.head()"
   ],
   "metadata": {
    "collapsed": false,
    "pycharm": {
     "name": "#%%\n"
    }
   }
  },
  {
   "cell_type": "code",
   "execution_count": 5,
   "outputs": [],
   "source": [
    "pd.set_option('display.max_rows', 300)"
   ],
   "metadata": {
    "collapsed": false,
    "pycharm": {
     "name": "#%%\n"
    }
   }
  },
  {
   "cell_type": "code",
   "execution_count": 6,
   "outputs": [
    {
     "data": {
      "text/plain": "array(['CS-320-J1906 Software Test Automation& QA 20EW1',\n       'CS-320-T1592 Software Test Automation& QA 20EW1',\n       'CS-320-T1591 Software Test Automation& QA 20EW1',\n       'CS-320-H1152 Software Test Automation& QA 20EW1',\n       'CS-320-T1590 Software Test Automation& QA 20EW1',\n       'CS-320-T1593 Software Test Automation& QA 20EW1',\n       'CS-320-J6601 Software Test Automation& QA 20EW6',\n       'CS-320-J5704 Software Test Automation& QA 20EW5',\n       'CS-320-J6602 Software Test Automation& QA 20EW6',\n       'CS-320-Q5397 Software Test Automation& QA 20EW5',\n       'CS-320-J5706 Software Test Automation& QA 20EW5',\n       'CS-320-J5707 Software Test Automation& QA 20EW5',\n       'CS-320-H5001 Software Test Automation& QA 20EW5',\n       'CS-320-J5705 Software Test Automation& QA 20EW5',\n       'CS-320-J3574 Software Test Automation& QA 20EW3',\n       'CS-320-J3493 Software Test Automation& QA 20EW3',\n       'CS-320-Q3397 Software Test Automation& QA 20EW3',\n       'CS-320-J3285 Software Test Automation& QA 20EW3',\n       'CS-320-J3284 Software Test Automation& QA 20EW3',\n       'CS-320-X1985 Software Test Automation& QA 19EW1',\n       'CS-320-J1390 Software Test Automation& QA 19EW1',\n       'CS-320-J1229 Software Test Automation& QA 19EW1',\n       'CS-320-Q1397 Software Test Automation& QA 19EW1',\n       'CS-320-X1984 Software Test Automation& QA 19EW1',\n       'CS-320-J5238 Software Test Automation& QA 19EW5',\n       'CS-320-Q5078 Software Test Automation& QA 19EW5',\n       'CS-320-J5220 Software Test Automation& QA 19EW5',\n       'CS-320-Q3078 Software Testing Automation 19EW3',\n       'CS-320-X3950 Software Test Automation& QA 19EW3',\n       'CS-320-J3479 Software Test Automation& QA 19EW3',\n       'CS-320-Q1073 Software Testing Automation 18EW1',\n       'CS-320-X1964 Software Testing Automation 18EW1',\n       'CS-320-Q5076 Software Testing Automation 18EW5',\n       'CS-320-Q3074 Software Testing Automation 18EW3',\n       'CS-410-Q5083 Software Reverse Engineering 19EW5',\n       'CS-410-Q3083 Software Reverse Engineering 19EW3',\n       'CS-410-Q1078 Software Reverse Engineering 18EW1',\n       'CS-410-Q1402 Software Reverse Engineering 19EW1',\n       'CS-410-Q3402 Software Reverse Engineering 20EW3',\n       'CS-410-Q5402 Software Reverse Engineering 20EW5',\n       'CS-410-J5821 Software Reverse Engineering 20EW5',\n       'CS-410-J1627 Software Reverse Engineering 20EW1',\n       'CS-410-X2887 Software Reverse Engineering 20EW2',\n       'CS-410-J1744 Software Reverse Engineering 20EW1',\n       'CS-230-H2251 Operating Platforms 20EW2',\n       'CS-230-H3785 Operating Platforms 21EW3',\n       'CS-230-T3191 Operating Platforms 21EW3',\n       'CS-230-T3194 Operating Platforms 21EW3',\n       'CS-230-H3293 Operating Platforms 21EW3',\n       'CS-230-T3193 Operating Platforms 21EW3',\n       'CS-230-H3958 Operating Platforms 21EW3',\n       'CS-230-T3192 Operating Platforms 21EW3',\n       'CS-230-T4081 Operating Platforms 21EW4',\n       'CS-230-H4865 Operating Platforms 21EW4',\n       'CS-230-H4756 Operating Platforms 21EW4',\n       'CS-230-T4253 Operating Platforms 21EW4',\n       'CS-230-T4256 Operating Platforms 21EW4',\n       'CS-230-T4250 Operating Platforms 21EW4',\n       'CS-230-T4259 Operating Platforms 21EW4',\n       'CS-230-H7110 Operating Platforms 21EW4',\n       'CS-230-X2115 Operating Platforms 20EW2',\n       'CS-230-X2113 Operating Platforms 20EW2',\n       'CS-230-H2259 Operating Platforms 20EW2',\n       'CS-230-X2114 Operating Platforms 20EW2',\n       'CS-230-H1113 Operating Platforms 20EW1',\n       'CS-230-Q1505 Operating Platforms 20EW1',\n       'CS-230-Q1504 Operating Platforms 20EW1',\n       'CS-230-J1886 Operating Platforms 20EW1',\n       'CS-230-T6600 Operating Platforms 20EW6',\n       'CS-230-H6019 Operating Platforms 20EW6',\n       'CS-230-J6916 Operating Platforms 20EW6',\n       'CS-230-T6601 Operating Platforms 20EW6',\n       'CS-230-Q5953 Operating Platforms 20EW5',\n       'CS-230-Q5954 Operating Platforms 20EW5',\n       'CS-230-J4458 Operating Platforms 20EW4',\n       'CS-230-J3533 Operating Platforms 20EW3',\n       'CS-255-J4459 System Analysis and Design 20EW4',\n       'CS-255-J5815 System Analysis and Design 20EW5',\n       'CS-255-T6603 System Analysis and Design 20EW6',\n       'CS-255-T6602 System Analysis and Design 20EW6',\n       'CS-255-Q1512 System Analysis and Design 20EW1',\n       'CS-255-Q1513 System Analysis and Design 20EW1',\n       'CS-255-H2252 System Analysis and Design 20EW2',\n       'CS-255-X2125 System Analysis and Design 20EW2',\n       'CS-255-X2124 System Analysis and Design 20EW2',\n       'CS-255-T3204 System Analysis and Design 21EW3',\n       'CS-255-T3203 System Analysis and Design 21EW3',\n       'CS-255-H3146 System Analysis and Design 21EW3',\n       'CS-255-T4168 System Analysis and Design 21EW4',\n       'CS-255-T4082 System Analysis and Design 21EW4',\n       'CS-255-T4158 System Analysis and Design 21EW4',\n       'CS-465-T3250 Full Stack Development I 21EW3',\n       'CS-465-X2146 Full Stack Development I 20EW2',\n       'CS-465-T4073 Full Stack Development I 21EW4',\n       'CS-465-Q1523 Full Stack Development I 20EW1',\n       'CS-465-J6531 Full Stack Development I 20EW6',\n       'CS-465-J5811 Full Stack Development I 20EW5',\n       'CS-320-T2994 Software Test Automation& QA 20EW2',\n       'CS-320-T2993 Software Test Automation& QA 20EW2',\n       'CS-320-H2213 Software Test Automation& QA 20EW2',\n       'CS-320-T3226 Software Test Automation& QA 21EW3',\n       'CS-320-T3228 Software Test Automation& QA 21EW3',\n       'CS-320-T3224 Software Test Automation& QA 21EW3',\n       'CS-320-T3225 Software Test Automation& QA 21EW3',\n       'CS-320-J3953 Software Test Automation& QA 21EW3',\n       'CS-320-T3229 Software Test Automation& QA 21EW3',\n       'CS-320-T4209 Software Test Automation& QA 21EW4',\n       'CS-320-T4215 Software Test Automation& QA 21EW4'], dtype=object)"
     },
     "execution_count": 6,
     "metadata": {},
     "output_type": "execute_result"
    }
   ],
   "source": [
    "df_raw['CourseName'].unique()"
   ],
   "metadata": {
    "collapsed": false,
    "pycharm": {
     "name": "#%%\n"
    }
   }
  },
  {
   "cell_type": "code",
   "execution_count": 7,
   "outputs": [],
   "source": [
    "full_stack = df_raw.loc[df_raw['CourseCode'].str.startswith('CS-410')]"
   ],
   "metadata": {
    "collapsed": false,
    "pycharm": {
     "name": "#%%\n"
    }
   }
  },
  {
   "cell_type": "code",
   "execution_count": 8,
   "outputs": [
    {
     "data": {
      "text/plain": "17837"
     },
     "execution_count": 8,
     "metadata": {},
     "output_type": "execute_result"
    }
   ],
   "source": [
    "len(full_stack)"
   ],
   "metadata": {
    "collapsed": false,
    "pycharm": {
     "name": "#%%\n"
    }
   }
  },
  {
   "cell_type": "code",
   "execution_count": 9,
   "outputs": [
    {
     "data": {
      "text/plain": "UserId                 195\nAttemptId             2018\nObjectId               520\nQuestionNumber          10\nQuestionId              52\nTemplateVersionId       56\nScore                    4\nOutOf                    3\nEventTime            17625\nTimeCompleted        14331\nQuizId                  60\nCourseId                10\nIsCorrect                2\nCourseCode              10\nCourseName              10\nQText                   54\nAttemptStarted        2018\nAttemptCompleted      2005\nQuizName                 6\ndtype: int64"
     },
     "execution_count": 9,
     "metadata": {},
     "output_type": "execute_result"
    }
   ],
   "source": [
    "full_stack.nunique()"
   ],
   "metadata": {
    "collapsed": false,
    "pycharm": {
     "name": "#%%\n"
    }
   }
  },
  {
   "cell_type": "code",
   "execution_count": 10,
   "outputs": [
    {
     "data": {
      "text/plain": "array(['<p>The instruction movq %rax, %rsi moves the value in register %rsi to the register %rax</p>',\n       '<p>Consider the following code: movl $2, -12(%rbp)</p>',\n       '<p>Consider the following code: movl $2, -12(%rbp)</p> <p>We can presume the following:<br />1) The program has 3 variables<br />2) We are assigning value 2 to a variable<br />3) We are moving 12 to %rbx</p> <p>&nbsp;</p>',\n       '<p>Consider the following instruction: movq %0, %eax<br />This instruction matches which instruction in C?</p>',\n       '<p>When you are declaring variables, which register is used to hold the value of these variables?</p>',\n       '<p>To compile a C program written in a file named test.c and then generate a binary output, which command is used?</p>',\n       '<p>Which statement is accurate regarding converting a C program to assembly?</p>',\n       '<p>C code is saved in a file named Test.c. Which instruction is used to convert the C code to assembly?</p>',\n       '<p>When C code saved in a file named Test.c is converted to assembly, what is the resulting assembly file named?</p>',\n       '<p>If you need to run a binary file named Test, which command should you use?</p>',\n       '<p>Which of the following statements are correct?</p> <p style=\"padding-left: 30px;\">i) Our focus in this course is on assembly generated by gcc.</p> <p style=\"padding-left: 30px;\">ii) There are different \"flavors\" of assembly instructions based on the processor type.</p> <p style=\"padding-left: 30px;\">iii) All assembly instructions are the same regardless of processor type.</p>',\n       '<p>In the learning materials for CS 410, skeleton code is defined as:</p>',\n       '<p>Consider this instruction in C: <br />Instruction: i = 12;<br />Which gcc-generated assembly code matches the C instruction?</p>',\n       '<p>Review the relevant materials in the Course Manual.</p> <p>int a,b,c;<br />a = 1;<br />b = 1;<br />c = 1;</p> <p>The assembly instruction that places the value 4 in variable <em>b</em> is:</p>',\n       '<p>The register that printf uses when printing an integer in assembly is:</p>',\n       '<p>When reading a value in C using scanf, &amp; is used to send the address of the variable to the function. In gcc-assembly, this is done using:</p>',\n       '<p>Examine this gcc-assembly generated code:</p> <p>.LC0:<br />.string \"Hello World\"<br />main:<br />movl $.LC0, %edi<br />call puts</p> <p>Which statement accurately explains the following?</p>',\n       '<p>Consider a program that declares two strings. The two labels gcc-assembler will generate to hold the values in these two strings are:</p>',\n       '<p>When you are declaring an array of size 5, which gcc-assembler generated instruction moves the value 22 into the fourth position in the array (at index 3)?</p>',\n       '<p>Examine the instruction:</p> <p>movl $22, -8(%rbp)</p> <p>Which C code may have generated it?</p>',\n       '<p>The following gcc-assembly generated instruction is valid: movl $12, $12</p>',\n       '<p>The following command creates a binary file using the file Code.c:</p>',\n       '<p>Which of these is a function of the command file in Codio?</p>',\n       '<p>What does ELF stands for?</p>',\n       '<p>Consider the following command:</p> <p>readelf Code -h</p> <p>What information will it provide about the binary object <em>Code</em>?</p>',\n       '<p>The third-party software Bless is used to:</p>',\n       '<p>What is the command gdb used for?</p>',\n       '<p>Assume you have a binary object named Calc. What are the steps to display the assembly code for the function main() inside object Calc?</p>',\n       '<p>Which command displays the functions in a binary object?</p>',\n       \"<p>It's possible to determine function parameters using dgb.</p>\",\n       '<p>The assembly instruction that matches the conditional operator &gt; is:</p>',\n       '<p>The assembly instruction that matches the conditional operator &gt;= is:</p>',\n       '<p>The assembly instruction that matches the conditional operator == is:</p>',\n       '<p>The assembly instruction that matches the conditional operator &lt; is:</p>',\n       '<p>What is a label in assembly language?</p>',\n       '<p>The following gcc-assembly generated code represents a loop:</p> <p>movl $0, -4(%rbp)<br /> jmp .L2<br />.L3:<br /> addl $1, -4(%rbp)<br />.L2:<br /> cmpl $9, -4(%rbp)<br /> jl .L3</p> <p>How many times will the loop execute?</p>',\n       '<p>What needs to be done for the code below to iterate four times?</p> <p>movl $0, -4(%rbp)<br /> jmp .L2<br />.L3:<br /> addl $1, -4(%rbp)<br />.L2:<br /> cmpl $6, -4(%rbp)<br /> jl .L3</p>',\n       '<p>What needs to be done for the code below to iterate six times?</p> <p>movl $0, -4(%rbp)<br />jmp .L2<br />.L3:<br />addl $1, -4(%rbp)<br />.L2:<br />cmpl $6, -4(%rbp)<br />jl .L3</p>',\n       '<p>Which of the following is an example of a label generated by gcc-assembler when dealing with loops?</p>',\n       '<p>How can you see how a program behaves?</p>',\n       '<p>Which of the following is a way to introduce security holes into a binary object or executable?</p>',\n       '<p>Dangling pointers are:</p>',\n       '<p>Which of the following can you do by checking user input?</p>',\n       '<p>Which of the following is a bad habit of programmers that may lead to code security risks?</p>',\n       '<p>Compiler warnings should cause concern as they may indicate threats to your code.</p>',\n       '<p>When you are writing code, which of the following should you do?</p>',\n       '<p>What is true of a default deny approach?</p>',\n       '<p>Receiving and incorporating feedback from managers is often a good practice for producing more secure code.</p>',\n       '<p>Ignoring best practices opens the door to hackers because it leads to the creation of weak code.</p>',\n       '<p>The final project for CS 410 involves which of the following tasks?</p>',\n       '<p>Which of these is among the deliverables for the final project submission?</p>',\n       '<p>To prepare for the final project, you will complete which of the following?</p>',\n       '<p>The code you submit in your deliverables should be properly commented.</p>',\n       '<p>Which type of code conversion is essential to the final project?</p>'],\n      dtype=object)"
     },
     "execution_count": 10,
     "metadata": {},
     "output_type": "execute_result"
    }
   ],
   "source": [
    "full_stack.QText.unique()"
   ],
   "metadata": {
    "collapsed": false,
    "pycharm": {
     "name": "#%%\n"
    }
   }
  },
  {
   "cell_type": "code",
   "execution_count": 11,
   "outputs": [
    {
     "data": {
      "text/plain": "              UserId     AttemptId      ObjectId  QuestionNumber  \\\ncount   17837.000000  1.783700e+04  1.783700e+04    17837.000000   \nmean   104802.944890  3.422596e+06  3.256080e+06        5.076807   \nstd     50796.900568  9.507619e+05  9.224394e+05        2.745511   \nmin      9755.000000  8.679170e+05  7.827450e+05        1.000000   \n25%     64954.000000  2.885972e+06  2.821719e+06        3.000000   \n50%     96154.000000  3.592009e+06  3.494824e+06        5.000000   \n75%    147254.000000  4.260918e+06  4.066480e+06        7.000000   \nmax    240776.000000  4.822736e+06  4.406691e+06       10.000000   \n\n         QuestionId  TemplateVersionId         Score         OutOf  \\\ncount  17837.000000       17837.000000  17720.000000  17837.000000   \nmean   58693.940965       64158.741829      1.620429      1.995515   \nstd       24.295696       10690.575046      0.836903      0.332311   \nmin    58588.000000       60877.000000      0.000000      1.000000   \n25%    58684.000000       60978.000000      1.000000      2.000000   \n50%    58696.000000       60991.000000      2.000000      2.000000   \n75%    58709.000000       61008.000000      2.000000      2.000000   \nmax    58725.000000      100531.000000      2.500000      2.500000   \n\n              QuizId       CourseId     IsCorrect  \ncount   17837.000000   17837.000000  17837.000000  \nmean   287247.857487  409068.949263      0.808993  \nstd     78755.587083  127123.660630      0.393106  \nmin     76574.000000  104192.000000      0.000000  \n25%    251317.000000  338480.000000      1.000000  \n50%    304322.000000  431010.000000      1.000000  \n75%    358019.000000  525494.000000      1.000000  \nmax    385240.000000  576870.000000      1.000000  ",
      "text/html": "<div>\n<style scoped>\n    .dataframe tbody tr th:only-of-type {\n        vertical-align: middle;\n    }\n\n    .dataframe tbody tr th {\n        vertical-align: top;\n    }\n\n    .dataframe thead th {\n        text-align: right;\n    }\n</style>\n<table border=\"1\" class=\"dataframe\">\n  <thead>\n    <tr style=\"text-align: right;\">\n      <th></th>\n      <th>UserId</th>\n      <th>AttemptId</th>\n      <th>ObjectId</th>\n      <th>QuestionNumber</th>\n      <th>QuestionId</th>\n      <th>TemplateVersionId</th>\n      <th>Score</th>\n      <th>OutOf</th>\n      <th>QuizId</th>\n      <th>CourseId</th>\n      <th>IsCorrect</th>\n    </tr>\n  </thead>\n  <tbody>\n    <tr>\n      <th>count</th>\n      <td>17837.000000</td>\n      <td>1.783700e+04</td>\n      <td>1.783700e+04</td>\n      <td>17837.000000</td>\n      <td>17837.000000</td>\n      <td>17837.000000</td>\n      <td>17720.000000</td>\n      <td>17837.000000</td>\n      <td>17837.000000</td>\n      <td>17837.000000</td>\n      <td>17837.000000</td>\n    </tr>\n    <tr>\n      <th>mean</th>\n      <td>104802.944890</td>\n      <td>3.422596e+06</td>\n      <td>3.256080e+06</td>\n      <td>5.076807</td>\n      <td>58693.940965</td>\n      <td>64158.741829</td>\n      <td>1.620429</td>\n      <td>1.995515</td>\n      <td>287247.857487</td>\n      <td>409068.949263</td>\n      <td>0.808993</td>\n    </tr>\n    <tr>\n      <th>std</th>\n      <td>50796.900568</td>\n      <td>9.507619e+05</td>\n      <td>9.224394e+05</td>\n      <td>2.745511</td>\n      <td>24.295696</td>\n      <td>10690.575046</td>\n      <td>0.836903</td>\n      <td>0.332311</td>\n      <td>78755.587083</td>\n      <td>127123.660630</td>\n      <td>0.393106</td>\n    </tr>\n    <tr>\n      <th>min</th>\n      <td>9755.000000</td>\n      <td>8.679170e+05</td>\n      <td>7.827450e+05</td>\n      <td>1.000000</td>\n      <td>58588.000000</td>\n      <td>60877.000000</td>\n      <td>0.000000</td>\n      <td>1.000000</td>\n      <td>76574.000000</td>\n      <td>104192.000000</td>\n      <td>0.000000</td>\n    </tr>\n    <tr>\n      <th>25%</th>\n      <td>64954.000000</td>\n      <td>2.885972e+06</td>\n      <td>2.821719e+06</td>\n      <td>3.000000</td>\n      <td>58684.000000</td>\n      <td>60978.000000</td>\n      <td>1.000000</td>\n      <td>2.000000</td>\n      <td>251317.000000</td>\n      <td>338480.000000</td>\n      <td>1.000000</td>\n    </tr>\n    <tr>\n      <th>50%</th>\n      <td>96154.000000</td>\n      <td>3.592009e+06</td>\n      <td>3.494824e+06</td>\n      <td>5.000000</td>\n      <td>58696.000000</td>\n      <td>60991.000000</td>\n      <td>2.000000</td>\n      <td>2.000000</td>\n      <td>304322.000000</td>\n      <td>431010.000000</td>\n      <td>1.000000</td>\n    </tr>\n    <tr>\n      <th>75%</th>\n      <td>147254.000000</td>\n      <td>4.260918e+06</td>\n      <td>4.066480e+06</td>\n      <td>7.000000</td>\n      <td>58709.000000</td>\n      <td>61008.000000</td>\n      <td>2.000000</td>\n      <td>2.000000</td>\n      <td>358019.000000</td>\n      <td>525494.000000</td>\n      <td>1.000000</td>\n    </tr>\n    <tr>\n      <th>max</th>\n      <td>240776.000000</td>\n      <td>4.822736e+06</td>\n      <td>4.406691e+06</td>\n      <td>10.000000</td>\n      <td>58725.000000</td>\n      <td>100531.000000</td>\n      <td>2.500000</td>\n      <td>2.500000</td>\n      <td>385240.000000</td>\n      <td>576870.000000</td>\n      <td>1.000000</td>\n    </tr>\n  </tbody>\n</table>\n</div>"
     },
     "execution_count": 11,
     "metadata": {},
     "output_type": "execute_result"
    }
   ],
   "source": [
    "full_stack.describe()"
   ],
   "metadata": {
    "collapsed": false,
    "pycharm": {
     "name": "#%%\n"
    }
   }
  },
  {
   "cell_type": "code",
   "execution_count": 12,
   "outputs": [
    {
     "data": {
      "text/plain": "      UserId  AttemptId  ObjectId  QuestionNumber  QuestionId  \\\n8170   76002    1788482   1725553               8       58588   \n8171   76002    1788395   1725553               1       58588   \n8172   87681    1818806   1725553               5       58588   \n8173    9755    1792582   1725553               6       58588   \n8174   70121    1825428   1725553               7       58588   \n\n      TemplateVersionId  Score  OutOf                EventTime  \\\n8170              60877    2.0    2.0  2019-05-02 01:31:32.217   \n8171              60877    2.0    2.0  2019-05-02 01:02:26.843   \n8172              60877    0.0    2.0  2019-05-07 23:21:19.020   \n8173              60877    2.0    2.0  2019-05-03 17:12:07.253   \n8174              60877    0.0    2.0  2019-05-08 20:23:42.470   \n\n                TimeCompleted  QuizId  CourseId  IsCorrect  \\\n8170  2019-05-02 01:38:17.403  156642    206647          1   \n8171  2019-05-02 01:19:45.633  156642    206647          1   \n8172  2019-05-07 23:24:58.130  156642    206647          0   \n8173  2019-05-03 17:14:47.313  156642    206647          1   \n8174  2019-05-08 20:31:32.527  156642    206647          0   \n\n                         CourseCode  \\\n8170  CS-410-Q5083-OL-TRAD-UG.19EW5   \n8171  CS-410-Q5083-OL-TRAD-UG.19EW5   \n8172  CS-410-Q5083-OL-TRAD-UG.19EW5   \n8173  CS-410-Q5083-OL-TRAD-UG.19EW5   \n8174  CS-410-Q5083-OL-TRAD-UG.19EW5   \n\n                                           CourseName  \\\n8170  CS-410-Q5083 Software Reverse Engineering 19EW5   \n8171  CS-410-Q5083 Software Reverse Engineering 19EW5   \n8172  CS-410-Q5083 Software Reverse Engineering 19EW5   \n8173  CS-410-Q5083 Software Reverse Engineering 19EW5   \n8174  CS-410-Q5083 Software Reverse Engineering 19EW5   \n\n                                                  QText  \\\n8170  <p>The instruction movq %rax, %rsi moves the v...   \n8171  <p>The instruction movq %rax, %rsi moves the v...   \n8172  <p>The instruction movq %rax, %rsi moves the v...   \n8173  <p>The instruction movq %rax, %rsi moves the v...   \n8174  <p>The instruction movq %rax, %rsi moves the v...   \n\n               AttemptStarted         AttemptCompleted  \\\n8170  2019-05-02 01:29:25.733  2019-05-02 01:38:18.917   \n8171  2019-05-02 01:02:20.687  2019-05-02 01:19:47.167   \n8172  2019-05-07 23:15:10.803  2019-05-07 23:25:02.050   \n8173  2019-05-03 17:02:19.083  2019-05-03 17:14:51.407   \n8174  2019-05-08 19:56:35.087  2019-05-08 20:31:34.450   \n\n                                    QuizName  \n8170  1-4 Quiz: Assembly Coding Fundamentals  \n8171  1-4 Quiz: Assembly Coding Fundamentals  \n8172  1-4 Quiz: Assembly Coding Fundamentals  \n8173  1-4 Quiz: Assembly Coding Fundamentals  \n8174  1-4 Quiz: Assembly Coding Fundamentals  ",
      "text/html": "<div>\n<style scoped>\n    .dataframe tbody tr th:only-of-type {\n        vertical-align: middle;\n    }\n\n    .dataframe tbody tr th {\n        vertical-align: top;\n    }\n\n    .dataframe thead th {\n        text-align: right;\n    }\n</style>\n<table border=\"1\" class=\"dataframe\">\n  <thead>\n    <tr style=\"text-align: right;\">\n      <th></th>\n      <th>UserId</th>\n      <th>AttemptId</th>\n      <th>ObjectId</th>\n      <th>QuestionNumber</th>\n      <th>QuestionId</th>\n      <th>TemplateVersionId</th>\n      <th>Score</th>\n      <th>OutOf</th>\n      <th>EventTime</th>\n      <th>TimeCompleted</th>\n      <th>QuizId</th>\n      <th>CourseId</th>\n      <th>IsCorrect</th>\n      <th>CourseCode</th>\n      <th>CourseName</th>\n      <th>QText</th>\n      <th>AttemptStarted</th>\n      <th>AttemptCompleted</th>\n      <th>QuizName</th>\n    </tr>\n  </thead>\n  <tbody>\n    <tr>\n      <th>8170</th>\n      <td>76002</td>\n      <td>1788482</td>\n      <td>1725553</td>\n      <td>8</td>\n      <td>58588</td>\n      <td>60877</td>\n      <td>2.0</td>\n      <td>2.0</td>\n      <td>2019-05-02 01:31:32.217</td>\n      <td>2019-05-02 01:38:17.403</td>\n      <td>156642</td>\n      <td>206647</td>\n      <td>1</td>\n      <td>CS-410-Q5083-OL-TRAD-UG.19EW5</td>\n      <td>CS-410-Q5083 Software Reverse Engineering 19EW5</td>\n      <td>&lt;p&gt;The instruction movq %rax, %rsi moves the v...</td>\n      <td>2019-05-02 01:29:25.733</td>\n      <td>2019-05-02 01:38:18.917</td>\n      <td>1-4 Quiz: Assembly Coding Fundamentals</td>\n    </tr>\n    <tr>\n      <th>8171</th>\n      <td>76002</td>\n      <td>1788395</td>\n      <td>1725553</td>\n      <td>1</td>\n      <td>58588</td>\n      <td>60877</td>\n      <td>2.0</td>\n      <td>2.0</td>\n      <td>2019-05-02 01:02:26.843</td>\n      <td>2019-05-02 01:19:45.633</td>\n      <td>156642</td>\n      <td>206647</td>\n      <td>1</td>\n      <td>CS-410-Q5083-OL-TRAD-UG.19EW5</td>\n      <td>CS-410-Q5083 Software Reverse Engineering 19EW5</td>\n      <td>&lt;p&gt;The instruction movq %rax, %rsi moves the v...</td>\n      <td>2019-05-02 01:02:20.687</td>\n      <td>2019-05-02 01:19:47.167</td>\n      <td>1-4 Quiz: Assembly Coding Fundamentals</td>\n    </tr>\n    <tr>\n      <th>8172</th>\n      <td>87681</td>\n      <td>1818806</td>\n      <td>1725553</td>\n      <td>5</td>\n      <td>58588</td>\n      <td>60877</td>\n      <td>0.0</td>\n      <td>2.0</td>\n      <td>2019-05-07 23:21:19.020</td>\n      <td>2019-05-07 23:24:58.130</td>\n      <td>156642</td>\n      <td>206647</td>\n      <td>0</td>\n      <td>CS-410-Q5083-OL-TRAD-UG.19EW5</td>\n      <td>CS-410-Q5083 Software Reverse Engineering 19EW5</td>\n      <td>&lt;p&gt;The instruction movq %rax, %rsi moves the v...</td>\n      <td>2019-05-07 23:15:10.803</td>\n      <td>2019-05-07 23:25:02.050</td>\n      <td>1-4 Quiz: Assembly Coding Fundamentals</td>\n    </tr>\n    <tr>\n      <th>8173</th>\n      <td>9755</td>\n      <td>1792582</td>\n      <td>1725553</td>\n      <td>6</td>\n      <td>58588</td>\n      <td>60877</td>\n      <td>2.0</td>\n      <td>2.0</td>\n      <td>2019-05-03 17:12:07.253</td>\n      <td>2019-05-03 17:14:47.313</td>\n      <td>156642</td>\n      <td>206647</td>\n      <td>1</td>\n      <td>CS-410-Q5083-OL-TRAD-UG.19EW5</td>\n      <td>CS-410-Q5083 Software Reverse Engineering 19EW5</td>\n      <td>&lt;p&gt;The instruction movq %rax, %rsi moves the v...</td>\n      <td>2019-05-03 17:02:19.083</td>\n      <td>2019-05-03 17:14:51.407</td>\n      <td>1-4 Quiz: Assembly Coding Fundamentals</td>\n    </tr>\n    <tr>\n      <th>8174</th>\n      <td>70121</td>\n      <td>1825428</td>\n      <td>1725553</td>\n      <td>7</td>\n      <td>58588</td>\n      <td>60877</td>\n      <td>0.0</td>\n      <td>2.0</td>\n      <td>2019-05-08 20:23:42.470</td>\n      <td>2019-05-08 20:31:32.527</td>\n      <td>156642</td>\n      <td>206647</td>\n      <td>0</td>\n      <td>CS-410-Q5083-OL-TRAD-UG.19EW5</td>\n      <td>CS-410-Q5083 Software Reverse Engineering 19EW5</td>\n      <td>&lt;p&gt;The instruction movq %rax, %rsi moves the v...</td>\n      <td>2019-05-08 19:56:35.087</td>\n      <td>2019-05-08 20:31:34.450</td>\n      <td>1-4 Quiz: Assembly Coding Fundamentals</td>\n    </tr>\n  </tbody>\n</table>\n</div>"
     },
     "execution_count": 12,
     "metadata": {},
     "output_type": "execute_result"
    }
   ],
   "source": [
    "full_stack.head()"
   ],
   "metadata": {
    "collapsed": false,
    "pycharm": {
     "name": "#%%\n"
    }
   }
  },
  {
   "cell_type": "code",
   "execution_count": 88,
   "outputs": [],
   "source": [
    "out_data_path = \"../../data/x_kc_014/CS-Question-Results6.csv\"\n",
    "full_stack.to_csv(out_data_path)"
   ],
   "metadata": {
    "collapsed": false,
    "pycharm": {
     "name": "#%%\n"
    }
   }
  },
  {
   "cell_type": "code",
   "execution_count": 6,
   "outputs": [
    {
     "data": {
      "text/plain": "UserId                1557\nAttemptId             5001\nObjectId              1594\nQuestionNumber          15\nQuestionId             121\nTemplateVersionId      127\nScore                   10\nOutOf                    8\nEventTime            50135\nTimeCompleted        36711\nQuizId                 158\nCourseId               108\nIsCorrect                2\nCourseCode             108\nCourseName             108\nQText                  122\nAttemptStarted        5001\nAttemptCompleted      4984\nQuizName                11\ndtype: int64"
     },
     "execution_count": 6,
     "metadata": {},
     "output_type": "execute_result"
    }
   ],
   "source": [],
   "metadata": {
    "collapsed": false,
    "pycharm": {
     "name": "#%%\n"
    }
   }
  },
  {
   "cell_type": "code",
   "execution_count": 104,
   "outputs": [],
   "source": [
    "questions = full_stack.drop_duplicates(subset=['QuestionId'])[['QuestionId', 'QText']]"
   ],
   "metadata": {
    "collapsed": false,
    "pycharm": {
     "name": "#%%\n"
    }
   }
  },
  {
   "cell_type": "code",
   "execution_count": 108,
   "outputs": [],
   "source": [
    "out_question_path = \"../../data/x_kc_014/CS-Questions.csv\"\n",
    "questions.to_csv(out_question_path)"
   ],
   "metadata": {
    "collapsed": false,
    "pycharm": {
     "name": "#%%\n"
    }
   }
  },
  {
   "cell_type": "code",
   "execution_count": 106,
   "outputs": [
    {
     "data": {
      "text/plain": "52"
     },
     "execution_count": 106,
     "metadata": {},
     "output_type": "execute_result"
    }
   ],
   "source": [
    "len(questions)"
   ],
   "metadata": {
    "collapsed": false,
    "pycharm": {
     "name": "#%%\n"
    }
   }
  },
  {
   "cell_type": "markdown",
   "source": [
    "Course Outcomes•CS-410-01: Disassemble compiled code into assembly language utilizing reverse software-engineeringtools and processes•CS-410-02: Interpret the functionality of disassembled code utilizing common reverse software-engineering tools•CS-410-03: Translate disassembled code into a higher-order programming language utilizing reversesoftware-engineering tools and processes•CS-410-04: Analyze software applications for security flaws to improve the functionality of software"
   ],
   "metadata": {
    "collapsed": false,
    "pycharm": {
     "name": "#%% md\n"
    }
   }
  },
  {
   "cell_type": "code",
   "execution_count": 13,
   "outputs": [
    {
     "data": {
      "text/plain": "       UserId  AttemptId  ObjectId  QuestionNumber  QuestionId  \\\n4902    63101    2015060   1727981               7       41588   \n4903   133698    1924850   1727981               7       41588   \n4904    33766    1919123   1737960               7       41588   \n4905    90755    1911209   1728423               7       41588   \n4906    95059    1911503   1737960               7       41588   \n...       ...        ...       ...             ...         ...   \n48699  263888    4976333   4807003               5      207435   \n48700  263888    4976424   4807003               5      207435   \n48701   68285    4942985   4812030               5      207435   \n48702   68285    4942739   4812030               5      207435   \n48703  243027    4957465   4815261               5      207435   \n\n       TemplateVersionId  Score  OutOf                EventTime  \\\n4902               41759    4.0    4.0  2019-07-01 01:11:55.377   \n4903               41759    4.0    4.0  2019-05-30 00:10:13.663   \n4904               41759    4.0    4.0  2019-05-27 21:00:29.273   \n4905               41759    4.0    4.0  2019-05-26 12:07:03.900   \n4906               41759    4.0    4.0  2019-05-26 14:20:11.030   \n...                  ...    ...    ...                      ...   \n48699             226348    0.0    2.0  2021-01-09 17:41:19.740   \n48700             226348    0.0    2.0  2021-01-09 17:45:11.880   \n48701             226348    2.0    2.0  2021-01-06 18:24:43.713   \n48702             226348    0.0    2.0  2021-01-06 18:04:58.130   \n48703             226348    2.0    2.0  2021-01-07 20:36:04.753   \n\n                 TimeCompleted  QuizId  CourseId  IsCorrect  \\\n4902   2019-07-01 01:16:03.140  156823    205067          1   \n4903   2019-05-30 00:20:39.157  156823    205067          1   \n4904   2019-05-27 21:02:54.850  157256    205072          1   \n4905   2019-05-26 12:10:08.087  156863    205057          1   \n4906   2019-05-26 14:20:57.577  157256    205072          1   \n...                        ...     ...       ...        ...   \n48699  2021-01-09 17:43:09.760  420321    636638          0   \n48700  2021-01-09 17:45:38.350  420321    636638          0   \n48701  2021-01-06 18:26:22.617  420611    636620          1   \n48702  2021-01-06 18:06:48.343  420611    636620          0   \n48703  2021-01-07 20:39:38.453  420826    636635          1   \n\n                          CourseCode  \\\n4902   CS-320-J5238-OL-TRAD-UG.19EW5   \n4903   CS-320-J5238-OL-TRAD-UG.19EW5   \n4904   CS-320-Q5078-OL-TRAD-UG.19EW5   \n4905   CS-320-J5220-OL-TRAD-UG.19EW5   \n4906   CS-320-Q5078-OL-TRAD-UG.19EW5   \n...                              ...   \n48699  CS-320-T3228-OL-TRAD-UG.21EW3   \n48700  CS-320-T3228-OL-TRAD-UG.21EW3   \n48701  CS-320-J3953-OL-TRAD-UG.21EW3   \n48702  CS-320-J3953-OL-TRAD-UG.21EW3   \n48703  CS-320-T3226-OL-TRAD-UG.21EW3   \n\n                                            CourseName  \\\n4902   CS-320-J5238 Software Test Automation& QA 19EW5   \n4903   CS-320-J5238 Software Test Automation& QA 19EW5   \n4904   CS-320-Q5078 Software Test Automation& QA 19EW5   \n4905   CS-320-J5220 Software Test Automation& QA 19EW5   \n4906   CS-320-Q5078 Software Test Automation& QA 19EW5   \n...                                                ...   \n48699  CS-320-T3228 Software Test Automation& QA 21EW3   \n48700  CS-320-T3228 Software Test Automation& QA 21EW3   \n48701  CS-320-J3953 Software Test Automation& QA 21EW3   \n48702  CS-320-J3953 Software Test Automation& QA 21EW3   \n48703  CS-320-T3226 Software Test Automation& QA 21EW3   \n\n                                                   QText  \\\n4902   <p>Under system testing, the complete system i...   \n4903   <p>Under system testing, the complete system i...   \n4904   <p>Under system testing, the complete system i...   \n4905   <p>Under system testing, the complete system i...   \n4906   <p>Under system testing, the complete system i...   \n...                                                  ...   \n48699  <p>What is functional testing also called? Sel...   \n48700  <p>What is functional testing also called? Sel...   \n48701  <p>What is functional testing also called? Sel...   \n48702  <p>What is functional testing also called? Sel...   \n48703  <p>What is functional testing also called? Sel...   \n\n                AttemptStarted         AttemptCompleted  \\\n4902   2019-07-01 00:42:00.103  2019-07-01 01:16:05.623   \n4903   2019-05-30 00:01:54.520  2019-05-30 00:20:44.203   \n4904   2019-05-27 20:58:12.057  2019-05-27 21:02:56.913   \n4905   2019-05-26 12:03:51.983  2019-05-26 12:10:10.727   \n4906   2019-05-26 14:02:25.367  2019-05-26 14:20:59.543   \n...                        ...                      ...   \n48699  2021-01-09 17:36:04.897  2021-01-09 17:43:11.570   \n48700  2021-01-09 17:44:08.697  2021-01-09 17:45:40.150   \n48701  2021-01-06 18:23:38.283  2021-01-06 18:26:25.000   \n48702  2021-01-06 18:02:07.537  2021-01-06 18:06:55.710   \n48703  2021-01-07 20:31:26.160  2021-01-07 20:39:40.490   \n\n                                                QuizName  \n4902                        2-1 Quiz: Testing Techniques  \n4903                        2-1 Quiz: Testing Techniques  \n4904                        2-1 Quiz: Testing Techniques  \n4905                        2-1 Quiz: Testing Techniques  \n4906                        2-1 Quiz: Testing Techniques  \n...                                                  ...  \n48699  2-3 Quiz: Software Techniques, Tools, and Appl...  \n48700  2-3 Quiz: Software Techniques, Tools, and Appl...  \n48701  2-3 Quiz: Software Techniques, Tools, and Appl...  \n48702  2-3 Quiz: Software Techniques, Tools, and Appl...  \n48703  2-3 Quiz: Software Techniques, Tools, and Appl...  \n\n[11673 rows x 19 columns]",
      "text/html": "<div>\n<style scoped>\n    .dataframe tbody tr th:only-of-type {\n        vertical-align: middle;\n    }\n\n    .dataframe tbody tr th {\n        vertical-align: top;\n    }\n\n    .dataframe thead th {\n        text-align: right;\n    }\n</style>\n<table border=\"1\" class=\"dataframe\">\n  <thead>\n    <tr style=\"text-align: right;\">\n      <th></th>\n      <th>UserId</th>\n      <th>AttemptId</th>\n      <th>ObjectId</th>\n      <th>QuestionNumber</th>\n      <th>QuestionId</th>\n      <th>TemplateVersionId</th>\n      <th>Score</th>\n      <th>OutOf</th>\n      <th>EventTime</th>\n      <th>TimeCompleted</th>\n      <th>QuizId</th>\n      <th>CourseId</th>\n      <th>IsCorrect</th>\n      <th>CourseCode</th>\n      <th>CourseName</th>\n      <th>QText</th>\n      <th>AttemptStarted</th>\n      <th>AttemptCompleted</th>\n      <th>QuizName</th>\n    </tr>\n  </thead>\n  <tbody>\n    <tr>\n      <th>4902</th>\n      <td>63101</td>\n      <td>2015060</td>\n      <td>1727981</td>\n      <td>7</td>\n      <td>41588</td>\n      <td>41759</td>\n      <td>4.0</td>\n      <td>4.0</td>\n      <td>2019-07-01 01:11:55.377</td>\n      <td>2019-07-01 01:16:03.140</td>\n      <td>156823</td>\n      <td>205067</td>\n      <td>1</td>\n      <td>CS-320-J5238-OL-TRAD-UG.19EW5</td>\n      <td>CS-320-J5238 Software Test Automation&amp; QA 19EW5</td>\n      <td>&lt;p&gt;Under system testing, the complete system i...</td>\n      <td>2019-07-01 00:42:00.103</td>\n      <td>2019-07-01 01:16:05.623</td>\n      <td>2-1 Quiz: Testing Techniques</td>\n    </tr>\n    <tr>\n      <th>4903</th>\n      <td>133698</td>\n      <td>1924850</td>\n      <td>1727981</td>\n      <td>7</td>\n      <td>41588</td>\n      <td>41759</td>\n      <td>4.0</td>\n      <td>4.0</td>\n      <td>2019-05-30 00:10:13.663</td>\n      <td>2019-05-30 00:20:39.157</td>\n      <td>156823</td>\n      <td>205067</td>\n      <td>1</td>\n      <td>CS-320-J5238-OL-TRAD-UG.19EW5</td>\n      <td>CS-320-J5238 Software Test Automation&amp; QA 19EW5</td>\n      <td>&lt;p&gt;Under system testing, the complete system i...</td>\n      <td>2019-05-30 00:01:54.520</td>\n      <td>2019-05-30 00:20:44.203</td>\n      <td>2-1 Quiz: Testing Techniques</td>\n    </tr>\n    <tr>\n      <th>4904</th>\n      <td>33766</td>\n      <td>1919123</td>\n      <td>1737960</td>\n      <td>7</td>\n      <td>41588</td>\n      <td>41759</td>\n      <td>4.0</td>\n      <td>4.0</td>\n      <td>2019-05-27 21:00:29.273</td>\n      <td>2019-05-27 21:02:54.850</td>\n      <td>157256</td>\n      <td>205072</td>\n      <td>1</td>\n      <td>CS-320-Q5078-OL-TRAD-UG.19EW5</td>\n      <td>CS-320-Q5078 Software Test Automation&amp; QA 19EW5</td>\n      <td>&lt;p&gt;Under system testing, the complete system i...</td>\n      <td>2019-05-27 20:58:12.057</td>\n      <td>2019-05-27 21:02:56.913</td>\n      <td>2-1 Quiz: Testing Techniques</td>\n    </tr>\n    <tr>\n      <th>4905</th>\n      <td>90755</td>\n      <td>1911209</td>\n      <td>1728423</td>\n      <td>7</td>\n      <td>41588</td>\n      <td>41759</td>\n      <td>4.0</td>\n      <td>4.0</td>\n      <td>2019-05-26 12:07:03.900</td>\n      <td>2019-05-26 12:10:08.087</td>\n      <td>156863</td>\n      <td>205057</td>\n      <td>1</td>\n      <td>CS-320-J5220-OL-TRAD-UG.19EW5</td>\n      <td>CS-320-J5220 Software Test Automation&amp; QA 19EW5</td>\n      <td>&lt;p&gt;Under system testing, the complete system i...</td>\n      <td>2019-05-26 12:03:51.983</td>\n      <td>2019-05-26 12:10:10.727</td>\n      <td>2-1 Quiz: Testing Techniques</td>\n    </tr>\n    <tr>\n      <th>4906</th>\n      <td>95059</td>\n      <td>1911503</td>\n      <td>1737960</td>\n      <td>7</td>\n      <td>41588</td>\n      <td>41759</td>\n      <td>4.0</td>\n      <td>4.0</td>\n      <td>2019-05-26 14:20:11.030</td>\n      <td>2019-05-26 14:20:57.577</td>\n      <td>157256</td>\n      <td>205072</td>\n      <td>1</td>\n      <td>CS-320-Q5078-OL-TRAD-UG.19EW5</td>\n      <td>CS-320-Q5078 Software Test Automation&amp; QA 19EW5</td>\n      <td>&lt;p&gt;Under system testing, the complete system i...</td>\n      <td>2019-05-26 14:02:25.367</td>\n      <td>2019-05-26 14:20:59.543</td>\n      <td>2-1 Quiz: Testing Techniques</td>\n    </tr>\n    <tr>\n      <th>...</th>\n      <td>...</td>\n      <td>...</td>\n      <td>...</td>\n      <td>...</td>\n      <td>...</td>\n      <td>...</td>\n      <td>...</td>\n      <td>...</td>\n      <td>...</td>\n      <td>...</td>\n      <td>...</td>\n      <td>...</td>\n      <td>...</td>\n      <td>...</td>\n      <td>...</td>\n      <td>...</td>\n      <td>...</td>\n      <td>...</td>\n      <td>...</td>\n    </tr>\n    <tr>\n      <th>48699</th>\n      <td>263888</td>\n      <td>4976333</td>\n      <td>4807003</td>\n      <td>5</td>\n      <td>207435</td>\n      <td>226348</td>\n      <td>0.0</td>\n      <td>2.0</td>\n      <td>2021-01-09 17:41:19.740</td>\n      <td>2021-01-09 17:43:09.760</td>\n      <td>420321</td>\n      <td>636638</td>\n      <td>0</td>\n      <td>CS-320-T3228-OL-TRAD-UG.21EW3</td>\n      <td>CS-320-T3228 Software Test Automation&amp; QA 21EW3</td>\n      <td>&lt;p&gt;What is functional testing also called? Sel...</td>\n      <td>2021-01-09 17:36:04.897</td>\n      <td>2021-01-09 17:43:11.570</td>\n      <td>2-3 Quiz: Software Techniques, Tools, and Appl...</td>\n    </tr>\n    <tr>\n      <th>48700</th>\n      <td>263888</td>\n      <td>4976424</td>\n      <td>4807003</td>\n      <td>5</td>\n      <td>207435</td>\n      <td>226348</td>\n      <td>0.0</td>\n      <td>2.0</td>\n      <td>2021-01-09 17:45:11.880</td>\n      <td>2021-01-09 17:45:38.350</td>\n      <td>420321</td>\n      <td>636638</td>\n      <td>0</td>\n      <td>CS-320-T3228-OL-TRAD-UG.21EW3</td>\n      <td>CS-320-T3228 Software Test Automation&amp; QA 21EW3</td>\n      <td>&lt;p&gt;What is functional testing also called? Sel...</td>\n      <td>2021-01-09 17:44:08.697</td>\n      <td>2021-01-09 17:45:40.150</td>\n      <td>2-3 Quiz: Software Techniques, Tools, and Appl...</td>\n    </tr>\n    <tr>\n      <th>48701</th>\n      <td>68285</td>\n      <td>4942985</td>\n      <td>4812030</td>\n      <td>5</td>\n      <td>207435</td>\n      <td>226348</td>\n      <td>2.0</td>\n      <td>2.0</td>\n      <td>2021-01-06 18:24:43.713</td>\n      <td>2021-01-06 18:26:22.617</td>\n      <td>420611</td>\n      <td>636620</td>\n      <td>1</td>\n      <td>CS-320-J3953-OL-TRAD-UG.21EW3</td>\n      <td>CS-320-J3953 Software Test Automation&amp; QA 21EW3</td>\n      <td>&lt;p&gt;What is functional testing also called? Sel...</td>\n      <td>2021-01-06 18:23:38.283</td>\n      <td>2021-01-06 18:26:25.000</td>\n      <td>2-3 Quiz: Software Techniques, Tools, and Appl...</td>\n    </tr>\n    <tr>\n      <th>48702</th>\n      <td>68285</td>\n      <td>4942739</td>\n      <td>4812030</td>\n      <td>5</td>\n      <td>207435</td>\n      <td>226348</td>\n      <td>0.0</td>\n      <td>2.0</td>\n      <td>2021-01-06 18:04:58.130</td>\n      <td>2021-01-06 18:06:48.343</td>\n      <td>420611</td>\n      <td>636620</td>\n      <td>0</td>\n      <td>CS-320-J3953-OL-TRAD-UG.21EW3</td>\n      <td>CS-320-J3953 Software Test Automation&amp; QA 21EW3</td>\n      <td>&lt;p&gt;What is functional testing also called? Sel...</td>\n      <td>2021-01-06 18:02:07.537</td>\n      <td>2021-01-06 18:06:55.710</td>\n      <td>2-3 Quiz: Software Techniques, Tools, and Appl...</td>\n    </tr>\n    <tr>\n      <th>48703</th>\n      <td>243027</td>\n      <td>4957465</td>\n      <td>4815261</td>\n      <td>5</td>\n      <td>207435</td>\n      <td>226348</td>\n      <td>2.0</td>\n      <td>2.0</td>\n      <td>2021-01-07 20:36:04.753</td>\n      <td>2021-01-07 20:39:38.453</td>\n      <td>420826</td>\n      <td>636635</td>\n      <td>1</td>\n      <td>CS-320-T3226-OL-TRAD-UG.21EW3</td>\n      <td>CS-320-T3226 Software Test Automation&amp; QA 21EW3</td>\n      <td>&lt;p&gt;What is functional testing also called? Sel...</td>\n      <td>2021-01-07 20:31:26.160</td>\n      <td>2021-01-07 20:39:40.490</td>\n      <td>2-3 Quiz: Software Techniques, Tools, and Appl...</td>\n    </tr>\n  </tbody>\n</table>\n<p>11673 rows × 19 columns</p>\n</div>"
     },
     "execution_count": 13,
     "metadata": {},
     "output_type": "execute_result"
    }
   ],
   "source": [
    "good_questions"
   ],
   "metadata": {
    "collapsed": false,
    "pycharm": {
     "name": "#%%\n"
    }
   }
  },
  {
   "cell_type": "code",
   "execution_count": 14,
   "outputs": [
    {
     "data": {
      "text/plain": "11673"
     },
     "execution_count": 14,
     "metadata": {},
     "output_type": "execute_result"
    }
   ],
   "source": [
    "len(good_questions)"
   ],
   "metadata": {
    "collapsed": false,
    "pycharm": {
     "name": "#%%\n"
    }
   }
  },
  {
   "cell_type": "code",
   "execution_count": 15,
   "outputs": [
    {
     "data": {
      "text/plain": "UserId                1538\nAttemptId             4899\nObjectId               769\nQuestionNumber          14\nQuestionId              35\nTemplateVersionId       39\nScore                    9\nOutOf                    8\nEventTime            11540\nTimeCompleted        10630\nQuizId                 158\nCourseId               108\nIsCorrect                2\nCourseCode             108\nCourseName             108\nQText                   37\nAttemptStarted        4899\nAttemptCompleted      4882\nQuizName                11\ndtype: int64"
     },
     "execution_count": 15,
     "metadata": {},
     "output_type": "execute_result"
    }
   ],
   "source": [
    "good_questions.nunique()"
   ],
   "metadata": {
    "collapsed": false,
    "pycharm": {
     "name": "#%%\n"
    }
   }
  },
  {
   "cell_type": "code",
   "execution_count": 16,
   "outputs": [
    {
     "data": {
      "text/plain": "              UserId     AttemptId      ObjectId  QuestionNumber  \\\ncount   11673.000000  1.167300e+04  1.167300e+04    11673.000000   \nmean   146537.555984  3.793532e+06  3.631944e+06        5.900711   \nstd     79155.663014  1.055483e+06  1.024268e+06        2.946809   \nmin      9755.000000  5.621600e+04  7.080000e+04        1.000000   \n25%     76517.000000  3.112961e+06  2.889212e+06        4.000000   \n50%    139999.000000  4.114034e+06  4.065770e+06        6.000000   \n75%    220570.000000  4.624129e+06  4.400427e+06        8.000000   \nmax    374372.000000  5.425883e+06  5.247347e+06       15.000000   \n\n          QuestionId  TemplateVersionId         Score         OutOf  \\\ncount   11673.000000       11673.000000  11615.000000  11673.000000   \nmean    98450.725178      114569.388675      1.498743      2.453737   \nstd     58178.981588       62101.229537      1.315884      0.758359   \nmin     41588.000000       41759.000000      0.000000      1.000000   \n25%     58683.000000       60981.000000      0.000000      2.000000   \n50%     58701.000000       61318.000000      2.000000      2.000000   \n75%    164428.000000      179514.000000      2.000000      3.000000   \nmax    207435.000000      226348.000000      4.000000      4.000000   \n\n              QuizId       CourseId     IsCorrect  \ncount   11673.000000   11673.000000  11673.000000  \nmean   319282.150947  463647.512465      0.613296  \nstd     87511.737025  143916.491420      0.487016  \nmin      4616.000000   17673.000000      0.000000  \n25%    254880.000000  338480.000000      0.000000  \n50%    358009.000000  524225.000000      1.000000  \n75%    384954.000000  574593.000000      1.000000  \nmax    454338.000000  701407.000000      1.000000  ",
      "text/html": "<div>\n<style scoped>\n    .dataframe tbody tr th:only-of-type {\n        vertical-align: middle;\n    }\n\n    .dataframe tbody tr th {\n        vertical-align: top;\n    }\n\n    .dataframe thead th {\n        text-align: right;\n    }\n</style>\n<table border=\"1\" class=\"dataframe\">\n  <thead>\n    <tr style=\"text-align: right;\">\n      <th></th>\n      <th>UserId</th>\n      <th>AttemptId</th>\n      <th>ObjectId</th>\n      <th>QuestionNumber</th>\n      <th>QuestionId</th>\n      <th>TemplateVersionId</th>\n      <th>Score</th>\n      <th>OutOf</th>\n      <th>QuizId</th>\n      <th>CourseId</th>\n      <th>IsCorrect</th>\n    </tr>\n  </thead>\n  <tbody>\n    <tr>\n      <th>count</th>\n      <td>11673.000000</td>\n      <td>1.167300e+04</td>\n      <td>1.167300e+04</td>\n      <td>11673.000000</td>\n      <td>11673.000000</td>\n      <td>11673.000000</td>\n      <td>11615.000000</td>\n      <td>11673.000000</td>\n      <td>11673.000000</td>\n      <td>11673.000000</td>\n      <td>11673.000000</td>\n    </tr>\n    <tr>\n      <th>mean</th>\n      <td>146537.555984</td>\n      <td>3.793532e+06</td>\n      <td>3.631944e+06</td>\n      <td>5.900711</td>\n      <td>98450.725178</td>\n      <td>114569.388675</td>\n      <td>1.498743</td>\n      <td>2.453737</td>\n      <td>319282.150947</td>\n      <td>463647.512465</td>\n      <td>0.613296</td>\n    </tr>\n    <tr>\n      <th>std</th>\n      <td>79155.663014</td>\n      <td>1.055483e+06</td>\n      <td>1.024268e+06</td>\n      <td>2.946809</td>\n      <td>58178.981588</td>\n      <td>62101.229537</td>\n      <td>1.315884</td>\n      <td>0.758359</td>\n      <td>87511.737025</td>\n      <td>143916.491420</td>\n      <td>0.487016</td>\n    </tr>\n    <tr>\n      <th>min</th>\n      <td>9755.000000</td>\n      <td>5.621600e+04</td>\n      <td>7.080000e+04</td>\n      <td>1.000000</td>\n      <td>41588.000000</td>\n      <td>41759.000000</td>\n      <td>0.000000</td>\n      <td>1.000000</td>\n      <td>4616.000000</td>\n      <td>17673.000000</td>\n      <td>0.000000</td>\n    </tr>\n    <tr>\n      <th>25%</th>\n      <td>76517.000000</td>\n      <td>3.112961e+06</td>\n      <td>2.889212e+06</td>\n      <td>4.000000</td>\n      <td>58683.000000</td>\n      <td>60981.000000</td>\n      <td>0.000000</td>\n      <td>2.000000</td>\n      <td>254880.000000</td>\n      <td>338480.000000</td>\n      <td>0.000000</td>\n    </tr>\n    <tr>\n      <th>50%</th>\n      <td>139999.000000</td>\n      <td>4.114034e+06</td>\n      <td>4.065770e+06</td>\n      <td>6.000000</td>\n      <td>58701.000000</td>\n      <td>61318.000000</td>\n      <td>2.000000</td>\n      <td>2.000000</td>\n      <td>358009.000000</td>\n      <td>524225.000000</td>\n      <td>1.000000</td>\n    </tr>\n    <tr>\n      <th>75%</th>\n      <td>220570.000000</td>\n      <td>4.624129e+06</td>\n      <td>4.400427e+06</td>\n      <td>8.000000</td>\n      <td>164428.000000</td>\n      <td>179514.000000</td>\n      <td>2.000000</td>\n      <td>3.000000</td>\n      <td>384954.000000</td>\n      <td>574593.000000</td>\n      <td>1.000000</td>\n    </tr>\n    <tr>\n      <th>max</th>\n      <td>374372.000000</td>\n      <td>5.425883e+06</td>\n      <td>5.247347e+06</td>\n      <td>15.000000</td>\n      <td>207435.000000</td>\n      <td>226348.000000</td>\n      <td>4.000000</td>\n      <td>4.000000</td>\n      <td>454338.000000</td>\n      <td>701407.000000</td>\n      <td>1.000000</td>\n    </tr>\n  </tbody>\n</table>\n</div>"
     },
     "execution_count": 16,
     "metadata": {},
     "output_type": "execute_result"
    }
   ],
   "source": [
    "good_questions.describe()"
   ],
   "metadata": {
    "collapsed": false,
    "pycharm": {
     "name": "#%%\n"
    }
   }
  },
  {
   "cell_type": "code",
   "execution_count": 17,
   "outputs": [
    {
     "data": {
      "text/plain": "QuestionId\n207434    0.793612\n58709     0.790476\n58721     0.787313\n58683     0.771277\n58707     0.765079\n58588     0.762274\n164428    0.750221\n184989    0.729508\n169687    0.728205\n58684     0.723404\n184985    0.713115\n58701     0.707775\n169677    0.704663\n169680    0.704082\n58687     0.694149\n58708     0.688889\n169685    0.675393\n58617     0.666667\n169681    0.651934\n58712     0.622074\n58698     0.616622\n58686     0.598404\n58700     0.597855\n169683    0.591398\n169695    0.569231\n58676     0.565891\n169694    0.563725\n58678     0.545220\n207435    0.434889\n169678    0.396739\n58675     0.387597\n58690     0.377660\n58691     0.332447\n41588     0.324357\n184993    0.245902\nName: IsCorrect, dtype: float64"
     },
     "execution_count": 17,
     "metadata": {},
     "output_type": "execute_result"
    }
   ],
   "source": [
    "good_questions.groupby('QuestionId')['IsCorrect'].mean().sort_values(ascending=False)"
   ],
   "metadata": {
    "collapsed": false,
    "pycharm": {
     "name": "#%%\n"
    }
   }
  },
  {
   "cell_type": "code",
   "execution_count": 18,
   "outputs": [
    {
     "data": {
      "text/plain": "11673"
     },
     "execution_count": 18,
     "metadata": {},
     "output_type": "execute_result"
    }
   ],
   "source": [
    "len(good_questions)"
   ],
   "metadata": {
    "collapsed": false,
    "pycharm": {
     "name": "#%%\n"
    }
   }
  },
  {
   "cell_type": "code",
   "execution_count": 20,
   "outputs": [],
   "source": [
    "data_path = \"../../data/x_nokc_hard/CS-Question-Results6.csv\"\n",
    "good_questions.to_csv(data_path)"
   ],
   "metadata": {
    "collapsed": false,
    "pycharm": {
     "name": "#%%\n"
    }
   }
  },
  {
   "cell_type": "code",
   "execution_count": null,
   "outputs": [],
   "source": [],
   "metadata": {
    "collapsed": false,
    "pycharm": {
     "name": "#%%\n"
    }
   }
  }
 ],
 "metadata": {
  "kernelspec": {
   "display_name": "Python 3",
   "language": "python",
   "name": "python3"
  },
  "language_info": {
   "codemirror_mode": {
    "name": "ipython",
    "version": 2
   },
   "file_extension": ".py",
   "mimetype": "text/x-python",
   "name": "python",
   "nbconvert_exporter": "python",
   "pygments_lexer": "ipython2",
   "version": "2.7.6"
  }
 },
 "nbformat": 4,
 "nbformat_minor": 0
}