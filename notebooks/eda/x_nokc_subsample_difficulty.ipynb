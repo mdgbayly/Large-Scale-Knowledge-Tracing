{
 "cells": [
  {
   "cell_type": "code",
   "execution_count": 1,
   "metadata": {
    "collapsed": true
   },
   "outputs": [],
   "source": [
    "# General imports\n",
    "import sys\n",
    "sys.path.append(\"..\")\n",
    "\n",
    "import pandas as pd"
   ]
  },
  {
   "cell_type": "markdown",
   "source": [
    "## Load data"
   ],
   "metadata": {
    "collapsed": false
   }
  },
  {
   "cell_type": "code",
   "execution_count": 2,
   "outputs": [
    {
     "data": {
      "text/plain": "   UserId  AttemptId  ObjectId  QuestionNumber  QuestionId  TemplateVersionId  \\\n0   91920    4407040   4071650               1       41582              41753   \n1  146213    4353694   4066771               1       41582              41753   \n2  237884    4348067   4071650               1       41582              41753   \n3  183317    4340813   4141045               1       41582              41753   \n4  111146    4318799   4066771               1       41582              41753   \n\n   Score  OutOf                EventTime            TimeCompleted  QuizId  \\\n0    4.0    4.0  2020-10-08 01:04:43.013  2020-10-09 02:49:38.613  358348   \n1    4.0    4.0  2020-09-28 04:12:43.203  2020-09-28 04:26:05.870  358039   \n2    4.0    4.0  2020-09-27 19:19:58.530  2020-09-27 19:25:55.180  358348   \n3    4.0    4.0  2020-09-26 01:27:10.560  2020-09-26 01:32:00.460  361937   \n4    4.0    4.0  2020-09-21 04:23:35.520  2020-09-21 04:29:43.670  358039   \n\n   CourseId  IsCorrect                     CourseCode  \\\n0    522926          1  CS-320-J1906-OL-TRAD-UG.20EW1   \n1    522939          1  CS-320-T1592-OL-TRAD-UG.20EW1   \n2    522926          1  CS-320-J1906-OL-TRAD-UG.20EW1   \n3    522933          1  CS-320-T1591-OL-TRAD-UG.20EW1   \n4    522939          1  CS-320-T1592-OL-TRAD-UG.20EW1   \n\n                                        CourseName  \\\n0  CS-320-J1906 Software Test Automation& QA 20EW1   \n1  CS-320-T1592 Software Test Automation& QA 20EW1   \n2  CS-320-J1906 Software Test Automation& QA 20EW1   \n3  CS-320-T1591 Software Test Automation& QA 20EW1   \n4  CS-320-T1592 Software Test Automation& QA 20EW1   \n\n                                               QText           AttemptStarted  \\\n0  <p>True or false: Under static software testin...  2020-10-08 01:00:40.677   \n1  <p>True or false: Under static software testin...  2020-09-28 04:11:15.687   \n2  <p>True or false: Under static software testin...  2020-09-27 19:19:38.347   \n3  <p>True or false: Under static software testin...  2020-09-26 01:27:03.100   \n4  <p>True or false: Under static software testin...  2020-09-21 04:17:58.057   \n\n          AttemptCompleted                      QuizName  \n0  2020-10-09 02:49:41.767  2-1 Quiz: Testing Techniques  \n1  2020-09-28 04:26:07.610  2-1 Quiz: Testing Techniques  \n2  2020-09-27 19:25:56.670  2-1 Quiz: Testing Techniques  \n3  2020-09-26 01:32:03.010  2-1 Quiz: Testing Techniques  \n4  2020-09-21 04:29:58.070  2-1 Quiz: Testing Techniques  ",
      "text/html": "<div>\n<style scoped>\n    .dataframe tbody tr th:only-of-type {\n        vertical-align: middle;\n    }\n\n    .dataframe tbody tr th {\n        vertical-align: top;\n    }\n\n    .dataframe thead th {\n        text-align: right;\n    }\n</style>\n<table border=\"1\" class=\"dataframe\">\n  <thead>\n    <tr style=\"text-align: right;\">\n      <th></th>\n      <th>UserId</th>\n      <th>AttemptId</th>\n      <th>ObjectId</th>\n      <th>QuestionNumber</th>\n      <th>QuestionId</th>\n      <th>TemplateVersionId</th>\n      <th>Score</th>\n      <th>OutOf</th>\n      <th>EventTime</th>\n      <th>TimeCompleted</th>\n      <th>QuizId</th>\n      <th>CourseId</th>\n      <th>IsCorrect</th>\n      <th>CourseCode</th>\n      <th>CourseName</th>\n      <th>QText</th>\n      <th>AttemptStarted</th>\n      <th>AttemptCompleted</th>\n      <th>QuizName</th>\n    </tr>\n  </thead>\n  <tbody>\n    <tr>\n      <th>0</th>\n      <td>91920</td>\n      <td>4407040</td>\n      <td>4071650</td>\n      <td>1</td>\n      <td>41582</td>\n      <td>41753</td>\n      <td>4.0</td>\n      <td>4.0</td>\n      <td>2020-10-08 01:04:43.013</td>\n      <td>2020-10-09 02:49:38.613</td>\n      <td>358348</td>\n      <td>522926</td>\n      <td>1</td>\n      <td>CS-320-J1906-OL-TRAD-UG.20EW1</td>\n      <td>CS-320-J1906 Software Test Automation&amp; QA 20EW1</td>\n      <td>&lt;p&gt;True or false: Under static software testin...</td>\n      <td>2020-10-08 01:00:40.677</td>\n      <td>2020-10-09 02:49:41.767</td>\n      <td>2-1 Quiz: Testing Techniques</td>\n    </tr>\n    <tr>\n      <th>1</th>\n      <td>146213</td>\n      <td>4353694</td>\n      <td>4066771</td>\n      <td>1</td>\n      <td>41582</td>\n      <td>41753</td>\n      <td>4.0</td>\n      <td>4.0</td>\n      <td>2020-09-28 04:12:43.203</td>\n      <td>2020-09-28 04:26:05.870</td>\n      <td>358039</td>\n      <td>522939</td>\n      <td>1</td>\n      <td>CS-320-T1592-OL-TRAD-UG.20EW1</td>\n      <td>CS-320-T1592 Software Test Automation&amp; QA 20EW1</td>\n      <td>&lt;p&gt;True or false: Under static software testin...</td>\n      <td>2020-09-28 04:11:15.687</td>\n      <td>2020-09-28 04:26:07.610</td>\n      <td>2-1 Quiz: Testing Techniques</td>\n    </tr>\n    <tr>\n      <th>2</th>\n      <td>237884</td>\n      <td>4348067</td>\n      <td>4071650</td>\n      <td>1</td>\n      <td>41582</td>\n      <td>41753</td>\n      <td>4.0</td>\n      <td>4.0</td>\n      <td>2020-09-27 19:19:58.530</td>\n      <td>2020-09-27 19:25:55.180</td>\n      <td>358348</td>\n      <td>522926</td>\n      <td>1</td>\n      <td>CS-320-J1906-OL-TRAD-UG.20EW1</td>\n      <td>CS-320-J1906 Software Test Automation&amp; QA 20EW1</td>\n      <td>&lt;p&gt;True or false: Under static software testin...</td>\n      <td>2020-09-27 19:19:38.347</td>\n      <td>2020-09-27 19:25:56.670</td>\n      <td>2-1 Quiz: Testing Techniques</td>\n    </tr>\n    <tr>\n      <th>3</th>\n      <td>183317</td>\n      <td>4340813</td>\n      <td>4141045</td>\n      <td>1</td>\n      <td>41582</td>\n      <td>41753</td>\n      <td>4.0</td>\n      <td>4.0</td>\n      <td>2020-09-26 01:27:10.560</td>\n      <td>2020-09-26 01:32:00.460</td>\n      <td>361937</td>\n      <td>522933</td>\n      <td>1</td>\n      <td>CS-320-T1591-OL-TRAD-UG.20EW1</td>\n      <td>CS-320-T1591 Software Test Automation&amp; QA 20EW1</td>\n      <td>&lt;p&gt;True or false: Under static software testin...</td>\n      <td>2020-09-26 01:27:03.100</td>\n      <td>2020-09-26 01:32:03.010</td>\n      <td>2-1 Quiz: Testing Techniques</td>\n    </tr>\n    <tr>\n      <th>4</th>\n      <td>111146</td>\n      <td>4318799</td>\n      <td>4066771</td>\n      <td>1</td>\n      <td>41582</td>\n      <td>41753</td>\n      <td>4.0</td>\n      <td>4.0</td>\n      <td>2020-09-21 04:23:35.520</td>\n      <td>2020-09-21 04:29:43.670</td>\n      <td>358039</td>\n      <td>522939</td>\n      <td>1</td>\n      <td>CS-320-T1592-OL-TRAD-UG.20EW1</td>\n      <td>CS-320-T1592 Software Test Automation&amp; QA 20EW1</td>\n      <td>&lt;p&gt;True or false: Under static software testin...</td>\n      <td>2020-09-21 04:17:58.057</td>\n      <td>2020-09-21 04:29:58.070</td>\n      <td>2-1 Quiz: Testing Techniques</td>\n    </tr>\n  </tbody>\n</table>\n</div>"
     },
     "execution_count": 2,
     "metadata": {},
     "output_type": "execute_result"
    }
   ],
   "source": [
    "data_path = \"../../data/x_nokc/CS-Question-Results6.csv\"\n",
    "df = pd.read_csv(data_path)\n",
    "df.head()"
   ],
   "metadata": {
    "collapsed": false,
    "pycharm": {
     "name": "#%%\n"
    }
   }
  },
  {
   "cell_type": "code",
   "execution_count": 3,
   "outputs": [],
   "source": [
    "pd.set_option('display.max_rows', 300)"
   ],
   "metadata": {
    "collapsed": false,
    "pycharm": {
     "name": "#%%\n"
    }
   }
  },
  {
   "cell_type": "code",
   "execution_count": 5,
   "outputs": [
    {
     "data": {
      "text/plain": "              UserId     AttemptId      ObjectId  QuestionNumber  \\\ncount   50739.000000  5.073900e+04  5.073900e+04    50739.000000   \nmean   167757.346400  3.922381e+06  3.762865e+06        5.732533   \nstd     85142.112263  1.107120e+06  1.080996e+06        3.157266   \nmin      9755.000000  5.621600e+04  7.079400e+04        1.000000   \n25%     87525.000000  3.500973e+06  3.412278e+06        3.000000   \n50%    162421.000000  4.206119e+06  4.066473e+06        6.000000   \n75%    239937.000000  4.725823e+06  4.406688e+06        8.000000   \nmax    374372.000000  5.425883e+06  5.247347e+06       15.000000   \n\n          QuestionId  TemplateVersionId         Score         OutOf  \\\ncount   50739.000000       50739.000000  50576.000000  50739.000000   \nmean   112093.452571      124446.378762      2.465303      2.885926   \nstd     61538.136946       67061.550881      1.364496      0.941124   \nmin     41582.000000       41753.000000      0.000000      1.000000   \n25%     58684.000000       60983.000000      2.000000      2.000000   \n50%     58723.000000      135506.000000      2.500000      3.000000   \n75%    164480.000000      181017.000000      3.750000      3.750000   \nmax    207440.000000      226348.000000      4.000000      4.000000   \n\n              QuizId       CourseId     IsCorrect  \ncount   50739.000000   50739.000000  50739.000000  \nmean   330296.010150  482341.034510      0.843749  \nstd     92351.374269  151755.202804      0.363096  \nmin      4616.000000   17673.000000      0.000000  \n25%    299812.000000  428704.000000      1.000000  \n50%    358018.000000  524231.000000      1.000000  \n75%    385240.000000  576870.000000      1.000000  \nmax    454338.000000  701407.000000      1.000000  ",
      "text/html": "<div>\n<style scoped>\n    .dataframe tbody tr th:only-of-type {\n        vertical-align: middle;\n    }\n\n    .dataframe tbody tr th {\n        vertical-align: top;\n    }\n\n    .dataframe thead th {\n        text-align: right;\n    }\n</style>\n<table border=\"1\" class=\"dataframe\">\n  <thead>\n    <tr style=\"text-align: right;\">\n      <th></th>\n      <th>UserId</th>\n      <th>AttemptId</th>\n      <th>ObjectId</th>\n      <th>QuestionNumber</th>\n      <th>QuestionId</th>\n      <th>TemplateVersionId</th>\n      <th>Score</th>\n      <th>OutOf</th>\n      <th>QuizId</th>\n      <th>CourseId</th>\n      <th>IsCorrect</th>\n    </tr>\n  </thead>\n  <tbody>\n    <tr>\n      <th>count</th>\n      <td>50739.000000</td>\n      <td>5.073900e+04</td>\n      <td>5.073900e+04</td>\n      <td>50739.000000</td>\n      <td>50739.000000</td>\n      <td>50739.000000</td>\n      <td>50576.000000</td>\n      <td>50739.000000</td>\n      <td>50739.000000</td>\n      <td>50739.000000</td>\n      <td>50739.000000</td>\n    </tr>\n    <tr>\n      <th>mean</th>\n      <td>167757.346400</td>\n      <td>3.922381e+06</td>\n      <td>3.762865e+06</td>\n      <td>5.732533</td>\n      <td>112093.452571</td>\n      <td>124446.378762</td>\n      <td>2.465303</td>\n      <td>2.885926</td>\n      <td>330296.010150</td>\n      <td>482341.034510</td>\n      <td>0.843749</td>\n    </tr>\n    <tr>\n      <th>std</th>\n      <td>85142.112263</td>\n      <td>1.107120e+06</td>\n      <td>1.080996e+06</td>\n      <td>3.157266</td>\n      <td>61538.136946</td>\n      <td>67061.550881</td>\n      <td>1.364496</td>\n      <td>0.941124</td>\n      <td>92351.374269</td>\n      <td>151755.202804</td>\n      <td>0.363096</td>\n    </tr>\n    <tr>\n      <th>min</th>\n      <td>9755.000000</td>\n      <td>5.621600e+04</td>\n      <td>7.079400e+04</td>\n      <td>1.000000</td>\n      <td>41582.000000</td>\n      <td>41753.000000</td>\n      <td>0.000000</td>\n      <td>1.000000</td>\n      <td>4616.000000</td>\n      <td>17673.000000</td>\n      <td>0.000000</td>\n    </tr>\n    <tr>\n      <th>25%</th>\n      <td>87525.000000</td>\n      <td>3.500973e+06</td>\n      <td>3.412278e+06</td>\n      <td>3.000000</td>\n      <td>58684.000000</td>\n      <td>60983.000000</td>\n      <td>2.000000</td>\n      <td>2.000000</td>\n      <td>299812.000000</td>\n      <td>428704.000000</td>\n      <td>1.000000</td>\n    </tr>\n    <tr>\n      <th>50%</th>\n      <td>162421.000000</td>\n      <td>4.206119e+06</td>\n      <td>4.066473e+06</td>\n      <td>6.000000</td>\n      <td>58723.000000</td>\n      <td>135506.000000</td>\n      <td>2.500000</td>\n      <td>3.000000</td>\n      <td>358018.000000</td>\n      <td>524231.000000</td>\n      <td>1.000000</td>\n    </tr>\n    <tr>\n      <th>75%</th>\n      <td>239937.000000</td>\n      <td>4.725823e+06</td>\n      <td>4.406688e+06</td>\n      <td>8.000000</td>\n      <td>164480.000000</td>\n      <td>181017.000000</td>\n      <td>3.750000</td>\n      <td>3.750000</td>\n      <td>385240.000000</td>\n      <td>576870.000000</td>\n      <td>1.000000</td>\n    </tr>\n    <tr>\n      <th>max</th>\n      <td>374372.000000</td>\n      <td>5.425883e+06</td>\n      <td>5.247347e+06</td>\n      <td>15.000000</td>\n      <td>207440.000000</td>\n      <td>226348.000000</td>\n      <td>4.000000</td>\n      <td>4.000000</td>\n      <td>454338.000000</td>\n      <td>701407.000000</td>\n      <td>1.000000</td>\n    </tr>\n  </tbody>\n</table>\n</div>"
     },
     "execution_count": 5,
     "metadata": {},
     "output_type": "execute_result"
    }
   ],
   "source": [
    "df.dtypes\n",
    "df.describe()"
   ],
   "metadata": {
    "collapsed": false,
    "pycharm": {
     "name": "#%%\n"
    }
   }
  },
  {
   "cell_type": "code",
   "execution_count": 6,
   "outputs": [
    {
     "data": {
      "text/plain": "UserId                1557\nAttemptId             5001\nObjectId              1594\nQuestionNumber          15\nQuestionId             121\nTemplateVersionId      127\nScore                   10\nOutOf                    8\nEventTime            50135\nTimeCompleted        36711\nQuizId                 158\nCourseId               108\nIsCorrect                2\nCourseCode             108\nCourseName             108\nQText                  122\nAttemptStarted        5001\nAttemptCompleted      4984\nQuizName                11\ndtype: int64"
     },
     "execution_count": 6,
     "metadata": {},
     "output_type": "execute_result"
    }
   ],
   "source": [
    "df.nunique()"
   ],
   "metadata": {
    "collapsed": false,
    "pycharm": {
     "name": "#%%\n"
    }
   }
  },
  {
   "cell_type": "code",
   "execution_count": 7,
   "outputs": [
    {
     "data": {
      "text/plain": "Int64Index([184979,  58705,  41583,  58704, 184977,  58703,  58716,  58715,\n             58724,  58702,\n            ...\n             58676, 169694,  58678, 207435, 169678,  58675,  58690,  58691,\n             41588, 184993],\n           dtype='int64', name='QuestionId', length=121)"
     },
     "execution_count": 7,
     "metadata": {},
     "output_type": "execute_result"
    }
   ],
   "source": [
    "df.groupby('QuestionId')['IsCorrect'].mean().sort_values(ascending=False).index"
   ],
   "metadata": {
    "collapsed": false,
    "pycharm": {
     "name": "#%%\n"
    }
   }
  },
  {
   "cell_type": "code",
   "execution_count": 11,
   "outputs": [
    {
     "data": {
      "text/plain": "QuestionId\n184979    1.000000\n58705     0.996825\n41583     0.993880\n58704     0.993651\n184977    0.991803\n58703     0.990476\n58716     0.989967\n58715     0.989967\n58724     0.985075\n58702     0.984127\n184984    0.983607\n41587     0.982864\n41582     0.980416\n41589     0.979192\n58725     0.977612\n58695     0.975871\n169698    0.975610\n207432    0.975430\n184983    0.975410\n184978    0.975410\n58720     0.973244\n207431    0.968059\n184986    0.967213\n58719     0.966555\n58723     0.966418\n207439    0.965602\n184987    0.959016\n164431    0.957560\n58722     0.951493\n41585     0.951040\n184981    0.950820\n58689     0.949468\n58694     0.949062\n41586     0.948592\n207440    0.948403\n58692     0.944149\n41590     0.943696\n58717     0.943144\n184980    0.942623\n207436    0.933661\n58693     0.930295\n169689    0.928934\n164433    0.924628\n58713     0.919732\n184982    0.918033\n164425    0.914912\n164430    0.913310\n58696     0.908847\n169696    0.908629\n41591     0.908201\n58677     0.906977\n207437    0.901720\n164480    0.901683\n184988    0.901639\n164426    0.898601\n164434    0.897368\n58711     0.892977\n164484    0.891892\n58679     0.891473\n169667    0.890710\n169671    0.887755\n58681     0.886305\n58685     0.885638\n58714     0.882943\n41584     0.877601\n184991    0.877049\n58680     0.875969\n58682     0.873385\n58699     0.871314\n169669    0.868421\n169670    0.868020\n169666    0.865591\n207433    0.864865\n164481    0.846356\n169693    0.843902\n164427    0.840106\n58718     0.839465\n169676    0.836066\n169697    0.834906\n58697     0.833780\n169668    0.820652\n58688     0.813830\n207438    0.808354\n164432    0.808304\n58706     0.806349\n164429    0.801954\n207434    0.793612\n58709     0.790476\n58721     0.787313\n58683     0.771277\n58707     0.765079\n58588     0.762274\n164428    0.750221\n184989    0.729508\n169687    0.728205\n58684     0.723404\n184985    0.713115\n58701     0.707775\n169677    0.704663\n169680    0.704082\n58687     0.694149\n58708     0.688889\n169685    0.675393\n58617     0.666667\n169681    0.651934\n58712     0.622074\n58698     0.616622\n58686     0.598404\n58700     0.597855\n169683    0.591398\n169695    0.569231\n58676     0.565891\n169694    0.563725\n58678     0.545220\n207435    0.434889\n169678    0.396739\n58675     0.387597\n58690     0.377660\n58691     0.332447\n41588     0.324357\n184993    0.245902\nName: IsCorrect, dtype: float64"
     },
     "execution_count": 11,
     "metadata": {},
     "output_type": "execute_result"
    }
   ],
   "source": [
    "df.groupby('QuestionId')['IsCorrect'].mean().sort_values(ascending=False)"
   ],
   "metadata": {
    "collapsed": false,
    "pycharm": {
     "name": "#%%\n"
    }
   }
  },
  {
   "cell_type": "code",
   "execution_count": 12,
   "outputs": [],
   "source": [
    "good_questions = df.groupby('QuestionId').filter(lambda x: x['IsCorrect'].mean() < 0.8)"
   ],
   "metadata": {
    "collapsed": false,
    "pycharm": {
     "name": "#%%\n"
    }
   }
  },
  {
   "cell_type": "code",
   "execution_count": 13,
   "outputs": [
    {
     "data": {
      "text/plain": "       UserId  AttemptId  ObjectId  QuestionNumber  QuestionId  \\\n4902    63101    2015060   1727981               7       41588   \n4903   133698    1924850   1727981               7       41588   \n4904    33766    1919123   1737960               7       41588   \n4905    90755    1911209   1728423               7       41588   \n4906    95059    1911503   1737960               7       41588   \n...       ...        ...       ...             ...         ...   \n48699  263888    4976333   4807003               5      207435   \n48700  263888    4976424   4807003               5      207435   \n48701   68285    4942985   4812030               5      207435   \n48702   68285    4942739   4812030               5      207435   \n48703  243027    4957465   4815261               5      207435   \n\n       TemplateVersionId  Score  OutOf                EventTime  \\\n4902               41759    4.0    4.0  2019-07-01 01:11:55.377   \n4903               41759    4.0    4.0  2019-05-30 00:10:13.663   \n4904               41759    4.0    4.0  2019-05-27 21:00:29.273   \n4905               41759    4.0    4.0  2019-05-26 12:07:03.900   \n4906               41759    4.0    4.0  2019-05-26 14:20:11.030   \n...                  ...    ...    ...                      ...   \n48699             226348    0.0    2.0  2021-01-09 17:41:19.740   \n48700             226348    0.0    2.0  2021-01-09 17:45:11.880   \n48701             226348    2.0    2.0  2021-01-06 18:24:43.713   \n48702             226348    0.0    2.0  2021-01-06 18:04:58.130   \n48703             226348    2.0    2.0  2021-01-07 20:36:04.753   \n\n                 TimeCompleted  QuizId  CourseId  IsCorrect  \\\n4902   2019-07-01 01:16:03.140  156823    205067          1   \n4903   2019-05-30 00:20:39.157  156823    205067          1   \n4904   2019-05-27 21:02:54.850  157256    205072          1   \n4905   2019-05-26 12:10:08.087  156863    205057          1   \n4906   2019-05-26 14:20:57.577  157256    205072          1   \n...                        ...     ...       ...        ...   \n48699  2021-01-09 17:43:09.760  420321    636638          0   \n48700  2021-01-09 17:45:38.350  420321    636638          0   \n48701  2021-01-06 18:26:22.617  420611    636620          1   \n48702  2021-01-06 18:06:48.343  420611    636620          0   \n48703  2021-01-07 20:39:38.453  420826    636635          1   \n\n                          CourseCode  \\\n4902   CS-320-J5238-OL-TRAD-UG.19EW5   \n4903   CS-320-J5238-OL-TRAD-UG.19EW5   \n4904   CS-320-Q5078-OL-TRAD-UG.19EW5   \n4905   CS-320-J5220-OL-TRAD-UG.19EW5   \n4906   CS-320-Q5078-OL-TRAD-UG.19EW5   \n...                              ...   \n48699  CS-320-T3228-OL-TRAD-UG.21EW3   \n48700  CS-320-T3228-OL-TRAD-UG.21EW3   \n48701  CS-320-J3953-OL-TRAD-UG.21EW3   \n48702  CS-320-J3953-OL-TRAD-UG.21EW3   \n48703  CS-320-T3226-OL-TRAD-UG.21EW3   \n\n                                            CourseName  \\\n4902   CS-320-J5238 Software Test Automation& QA 19EW5   \n4903   CS-320-J5238 Software Test Automation& QA 19EW5   \n4904   CS-320-Q5078 Software Test Automation& QA 19EW5   \n4905   CS-320-J5220 Software Test Automation& QA 19EW5   \n4906   CS-320-Q5078 Software Test Automation& QA 19EW5   \n...                                                ...   \n48699  CS-320-T3228 Software Test Automation& QA 21EW3   \n48700  CS-320-T3228 Software Test Automation& QA 21EW3   \n48701  CS-320-J3953 Software Test Automation& QA 21EW3   \n48702  CS-320-J3953 Software Test Automation& QA 21EW3   \n48703  CS-320-T3226 Software Test Automation& QA 21EW3   \n\n                                                   QText  \\\n4902   <p>Under system testing, the complete system i...   \n4903   <p>Under system testing, the complete system i...   \n4904   <p>Under system testing, the complete system i...   \n4905   <p>Under system testing, the complete system i...   \n4906   <p>Under system testing, the complete system i...   \n...                                                  ...   \n48699  <p>What is functional testing also called? Sel...   \n48700  <p>What is functional testing also called? Sel...   \n48701  <p>What is functional testing also called? Sel...   \n48702  <p>What is functional testing also called? Sel...   \n48703  <p>What is functional testing also called? Sel...   \n\n                AttemptStarted         AttemptCompleted  \\\n4902   2019-07-01 00:42:00.103  2019-07-01 01:16:05.623   \n4903   2019-05-30 00:01:54.520  2019-05-30 00:20:44.203   \n4904   2019-05-27 20:58:12.057  2019-05-27 21:02:56.913   \n4905   2019-05-26 12:03:51.983  2019-05-26 12:10:10.727   \n4906   2019-05-26 14:02:25.367  2019-05-26 14:20:59.543   \n...                        ...                      ...   \n48699  2021-01-09 17:36:04.897  2021-01-09 17:43:11.570   \n48700  2021-01-09 17:44:08.697  2021-01-09 17:45:40.150   \n48701  2021-01-06 18:23:38.283  2021-01-06 18:26:25.000   \n48702  2021-01-06 18:02:07.537  2021-01-06 18:06:55.710   \n48703  2021-01-07 20:31:26.160  2021-01-07 20:39:40.490   \n\n                                                QuizName  \n4902                        2-1 Quiz: Testing Techniques  \n4903                        2-1 Quiz: Testing Techniques  \n4904                        2-1 Quiz: Testing Techniques  \n4905                        2-1 Quiz: Testing Techniques  \n4906                        2-1 Quiz: Testing Techniques  \n...                                                  ...  \n48699  2-3 Quiz: Software Techniques, Tools, and Appl...  \n48700  2-3 Quiz: Software Techniques, Tools, and Appl...  \n48701  2-3 Quiz: Software Techniques, Tools, and Appl...  \n48702  2-3 Quiz: Software Techniques, Tools, and Appl...  \n48703  2-3 Quiz: Software Techniques, Tools, and Appl...  \n\n[11673 rows x 19 columns]",
      "text/html": "<div>\n<style scoped>\n    .dataframe tbody tr th:only-of-type {\n        vertical-align: middle;\n    }\n\n    .dataframe tbody tr th {\n        vertical-align: top;\n    }\n\n    .dataframe thead th {\n        text-align: right;\n    }\n</style>\n<table border=\"1\" class=\"dataframe\">\n  <thead>\n    <tr style=\"text-align: right;\">\n      <th></th>\n      <th>UserId</th>\n      <th>AttemptId</th>\n      <th>ObjectId</th>\n      <th>QuestionNumber</th>\n      <th>QuestionId</th>\n      <th>TemplateVersionId</th>\n      <th>Score</th>\n      <th>OutOf</th>\n      <th>EventTime</th>\n      <th>TimeCompleted</th>\n      <th>QuizId</th>\n      <th>CourseId</th>\n      <th>IsCorrect</th>\n      <th>CourseCode</th>\n      <th>CourseName</th>\n      <th>QText</th>\n      <th>AttemptStarted</th>\n      <th>AttemptCompleted</th>\n      <th>QuizName</th>\n    </tr>\n  </thead>\n  <tbody>\n    <tr>\n      <th>4902</th>\n      <td>63101</td>\n      <td>2015060</td>\n      <td>1727981</td>\n      <td>7</td>\n      <td>41588</td>\n      <td>41759</td>\n      <td>4.0</td>\n      <td>4.0</td>\n      <td>2019-07-01 01:11:55.377</td>\n      <td>2019-07-01 01:16:03.140</td>\n      <td>156823</td>\n      <td>205067</td>\n      <td>1</td>\n      <td>CS-320-J5238-OL-TRAD-UG.19EW5</td>\n      <td>CS-320-J5238 Software Test Automation&amp; QA 19EW5</td>\n      <td>&lt;p&gt;Under system testing, the complete system i...</td>\n      <td>2019-07-01 00:42:00.103</td>\n      <td>2019-07-01 01:16:05.623</td>\n      <td>2-1 Quiz: Testing Techniques</td>\n    </tr>\n    <tr>\n      <th>4903</th>\n      <td>133698</td>\n      <td>1924850</td>\n      <td>1727981</td>\n      <td>7</td>\n      <td>41588</td>\n      <td>41759</td>\n      <td>4.0</td>\n      <td>4.0</td>\n      <td>2019-05-30 00:10:13.663</td>\n      <td>2019-05-30 00:20:39.157</td>\n      <td>156823</td>\n      <td>205067</td>\n      <td>1</td>\n      <td>CS-320-J5238-OL-TRAD-UG.19EW5</td>\n      <td>CS-320-J5238 Software Test Automation&amp; QA 19EW5</td>\n      <td>&lt;p&gt;Under system testing, the complete system i...</td>\n      <td>2019-05-30 00:01:54.520</td>\n      <td>2019-05-30 00:20:44.203</td>\n      <td>2-1 Quiz: Testing Techniques</td>\n    </tr>\n    <tr>\n      <th>4904</th>\n      <td>33766</td>\n      <td>1919123</td>\n      <td>1737960</td>\n      <td>7</td>\n      <td>41588</td>\n      <td>41759</td>\n      <td>4.0</td>\n      <td>4.0</td>\n      <td>2019-05-27 21:00:29.273</td>\n      <td>2019-05-27 21:02:54.850</td>\n      <td>157256</td>\n      <td>205072</td>\n      <td>1</td>\n      <td>CS-320-Q5078-OL-TRAD-UG.19EW5</td>\n      <td>CS-320-Q5078 Software Test Automation&amp; QA 19EW5</td>\n      <td>&lt;p&gt;Under system testing, the complete system i...</td>\n      <td>2019-05-27 20:58:12.057</td>\n      <td>2019-05-27 21:02:56.913</td>\n      <td>2-1 Quiz: Testing Techniques</td>\n    </tr>\n    <tr>\n      <th>4905</th>\n      <td>90755</td>\n      <td>1911209</td>\n      <td>1728423</td>\n      <td>7</td>\n      <td>41588</td>\n      <td>41759</td>\n      <td>4.0</td>\n      <td>4.0</td>\n      <td>2019-05-26 12:07:03.900</td>\n      <td>2019-05-26 12:10:08.087</td>\n      <td>156863</td>\n      <td>205057</td>\n      <td>1</td>\n      <td>CS-320-J5220-OL-TRAD-UG.19EW5</td>\n      <td>CS-320-J5220 Software Test Automation&amp; QA 19EW5</td>\n      <td>&lt;p&gt;Under system testing, the complete system i...</td>\n      <td>2019-05-26 12:03:51.983</td>\n      <td>2019-05-26 12:10:10.727</td>\n      <td>2-1 Quiz: Testing Techniques</td>\n    </tr>\n    <tr>\n      <th>4906</th>\n      <td>95059</td>\n      <td>1911503</td>\n      <td>1737960</td>\n      <td>7</td>\n      <td>41588</td>\n      <td>41759</td>\n      <td>4.0</td>\n      <td>4.0</td>\n      <td>2019-05-26 14:20:11.030</td>\n      <td>2019-05-26 14:20:57.577</td>\n      <td>157256</td>\n      <td>205072</td>\n      <td>1</td>\n      <td>CS-320-Q5078-OL-TRAD-UG.19EW5</td>\n      <td>CS-320-Q5078 Software Test Automation&amp; QA 19EW5</td>\n      <td>&lt;p&gt;Under system testing, the complete system i...</td>\n      <td>2019-05-26 14:02:25.367</td>\n      <td>2019-05-26 14:20:59.543</td>\n      <td>2-1 Quiz: Testing Techniques</td>\n    </tr>\n    <tr>\n      <th>...</th>\n      <td>...</td>\n      <td>...</td>\n      <td>...</td>\n      <td>...</td>\n      <td>...</td>\n      <td>...</td>\n      <td>...</td>\n      <td>...</td>\n      <td>...</td>\n      <td>...</td>\n      <td>...</td>\n      <td>...</td>\n      <td>...</td>\n      <td>...</td>\n      <td>...</td>\n      <td>...</td>\n      <td>...</td>\n      <td>...</td>\n      <td>...</td>\n    </tr>\n    <tr>\n      <th>48699</th>\n      <td>263888</td>\n      <td>4976333</td>\n      <td>4807003</td>\n      <td>5</td>\n      <td>207435</td>\n      <td>226348</td>\n      <td>0.0</td>\n      <td>2.0</td>\n      <td>2021-01-09 17:41:19.740</td>\n      <td>2021-01-09 17:43:09.760</td>\n      <td>420321</td>\n      <td>636638</td>\n      <td>0</td>\n      <td>CS-320-T3228-OL-TRAD-UG.21EW3</td>\n      <td>CS-320-T3228 Software Test Automation&amp; QA 21EW3</td>\n      <td>&lt;p&gt;What is functional testing also called? Sel...</td>\n      <td>2021-01-09 17:36:04.897</td>\n      <td>2021-01-09 17:43:11.570</td>\n      <td>2-3 Quiz: Software Techniques, Tools, and Appl...</td>\n    </tr>\n    <tr>\n      <th>48700</th>\n      <td>263888</td>\n      <td>4976424</td>\n      <td>4807003</td>\n      <td>5</td>\n      <td>207435</td>\n      <td>226348</td>\n      <td>0.0</td>\n      <td>2.0</td>\n      <td>2021-01-09 17:45:11.880</td>\n      <td>2021-01-09 17:45:38.350</td>\n      <td>420321</td>\n      <td>636638</td>\n      <td>0</td>\n      <td>CS-320-T3228-OL-TRAD-UG.21EW3</td>\n      <td>CS-320-T3228 Software Test Automation&amp; QA 21EW3</td>\n      <td>&lt;p&gt;What is functional testing also called? Sel...</td>\n      <td>2021-01-09 17:44:08.697</td>\n      <td>2021-01-09 17:45:40.150</td>\n      <td>2-3 Quiz: Software Techniques, Tools, and Appl...</td>\n    </tr>\n    <tr>\n      <th>48701</th>\n      <td>68285</td>\n      <td>4942985</td>\n      <td>4812030</td>\n      <td>5</td>\n      <td>207435</td>\n      <td>226348</td>\n      <td>2.0</td>\n      <td>2.0</td>\n      <td>2021-01-06 18:24:43.713</td>\n      <td>2021-01-06 18:26:22.617</td>\n      <td>420611</td>\n      <td>636620</td>\n      <td>1</td>\n      <td>CS-320-J3953-OL-TRAD-UG.21EW3</td>\n      <td>CS-320-J3953 Software Test Automation&amp; QA 21EW3</td>\n      <td>&lt;p&gt;What is functional testing also called? Sel...</td>\n      <td>2021-01-06 18:23:38.283</td>\n      <td>2021-01-06 18:26:25.000</td>\n      <td>2-3 Quiz: Software Techniques, Tools, and Appl...</td>\n    </tr>\n    <tr>\n      <th>48702</th>\n      <td>68285</td>\n      <td>4942739</td>\n      <td>4812030</td>\n      <td>5</td>\n      <td>207435</td>\n      <td>226348</td>\n      <td>0.0</td>\n      <td>2.0</td>\n      <td>2021-01-06 18:04:58.130</td>\n      <td>2021-01-06 18:06:48.343</td>\n      <td>420611</td>\n      <td>636620</td>\n      <td>0</td>\n      <td>CS-320-J3953-OL-TRAD-UG.21EW3</td>\n      <td>CS-320-J3953 Software Test Automation&amp; QA 21EW3</td>\n      <td>&lt;p&gt;What is functional testing also called? Sel...</td>\n      <td>2021-01-06 18:02:07.537</td>\n      <td>2021-01-06 18:06:55.710</td>\n      <td>2-3 Quiz: Software Techniques, Tools, and Appl...</td>\n    </tr>\n    <tr>\n      <th>48703</th>\n      <td>243027</td>\n      <td>4957465</td>\n      <td>4815261</td>\n      <td>5</td>\n      <td>207435</td>\n      <td>226348</td>\n      <td>2.0</td>\n      <td>2.0</td>\n      <td>2021-01-07 20:36:04.753</td>\n      <td>2021-01-07 20:39:38.453</td>\n      <td>420826</td>\n      <td>636635</td>\n      <td>1</td>\n      <td>CS-320-T3226-OL-TRAD-UG.21EW3</td>\n      <td>CS-320-T3226 Software Test Automation&amp; QA 21EW3</td>\n      <td>&lt;p&gt;What is functional testing also called? Sel...</td>\n      <td>2021-01-07 20:31:26.160</td>\n      <td>2021-01-07 20:39:40.490</td>\n      <td>2-3 Quiz: Software Techniques, Tools, and Appl...</td>\n    </tr>\n  </tbody>\n</table>\n<p>11673 rows × 19 columns</p>\n</div>"
     },
     "execution_count": 13,
     "metadata": {},
     "output_type": "execute_result"
    }
   ],
   "source": [
    "good_questions"
   ],
   "metadata": {
    "collapsed": false,
    "pycharm": {
     "name": "#%%\n"
    }
   }
  },
  {
   "cell_type": "code",
   "execution_count": 14,
   "outputs": [
    {
     "data": {
      "text/plain": "11673"
     },
     "execution_count": 14,
     "metadata": {},
     "output_type": "execute_result"
    }
   ],
   "source": [
    "len(good_questions)"
   ],
   "metadata": {
    "collapsed": false,
    "pycharm": {
     "name": "#%%\n"
    }
   }
  },
  {
   "cell_type": "code",
   "execution_count": 15,
   "outputs": [
    {
     "data": {
      "text/plain": "UserId                1538\nAttemptId             4899\nObjectId               769\nQuestionNumber          14\nQuestionId              35\nTemplateVersionId       39\nScore                    9\nOutOf                    8\nEventTime            11540\nTimeCompleted        10630\nQuizId                 158\nCourseId               108\nIsCorrect                2\nCourseCode             108\nCourseName             108\nQText                   37\nAttemptStarted        4899\nAttemptCompleted      4882\nQuizName                11\ndtype: int64"
     },
     "execution_count": 15,
     "metadata": {},
     "output_type": "execute_result"
    }
   ],
   "source": [
    "good_questions.nunique()"
   ],
   "metadata": {
    "collapsed": false,
    "pycharm": {
     "name": "#%%\n"
    }
   }
  },
  {
   "cell_type": "code",
   "execution_count": 16,
   "outputs": [
    {
     "data": {
      "text/plain": "              UserId     AttemptId      ObjectId  QuestionNumber  \\\ncount   11673.000000  1.167300e+04  1.167300e+04    11673.000000   \nmean   146537.555984  3.793532e+06  3.631944e+06        5.900711   \nstd     79155.663014  1.055483e+06  1.024268e+06        2.946809   \nmin      9755.000000  5.621600e+04  7.080000e+04        1.000000   \n25%     76517.000000  3.112961e+06  2.889212e+06        4.000000   \n50%    139999.000000  4.114034e+06  4.065770e+06        6.000000   \n75%    220570.000000  4.624129e+06  4.400427e+06        8.000000   \nmax    374372.000000  5.425883e+06  5.247347e+06       15.000000   \n\n          QuestionId  TemplateVersionId         Score         OutOf  \\\ncount   11673.000000       11673.000000  11615.000000  11673.000000   \nmean    98450.725178      114569.388675      1.498743      2.453737   \nstd     58178.981588       62101.229537      1.315884      0.758359   \nmin     41588.000000       41759.000000      0.000000      1.000000   \n25%     58683.000000       60981.000000      0.000000      2.000000   \n50%     58701.000000       61318.000000      2.000000      2.000000   \n75%    164428.000000      179514.000000      2.000000      3.000000   \nmax    207435.000000      226348.000000      4.000000      4.000000   \n\n              QuizId       CourseId     IsCorrect  \ncount   11673.000000   11673.000000  11673.000000  \nmean   319282.150947  463647.512465      0.613296  \nstd     87511.737025  143916.491420      0.487016  \nmin      4616.000000   17673.000000      0.000000  \n25%    254880.000000  338480.000000      0.000000  \n50%    358009.000000  524225.000000      1.000000  \n75%    384954.000000  574593.000000      1.000000  \nmax    454338.000000  701407.000000      1.000000  ",
      "text/html": "<div>\n<style scoped>\n    .dataframe tbody tr th:only-of-type {\n        vertical-align: middle;\n    }\n\n    .dataframe tbody tr th {\n        vertical-align: top;\n    }\n\n    .dataframe thead th {\n        text-align: right;\n    }\n</style>\n<table border=\"1\" class=\"dataframe\">\n  <thead>\n    <tr style=\"text-align: right;\">\n      <th></th>\n      <th>UserId</th>\n      <th>AttemptId</th>\n      <th>ObjectId</th>\n      <th>QuestionNumber</th>\n      <th>QuestionId</th>\n      <th>TemplateVersionId</th>\n      <th>Score</th>\n      <th>OutOf</th>\n      <th>QuizId</th>\n      <th>CourseId</th>\n      <th>IsCorrect</th>\n    </tr>\n  </thead>\n  <tbody>\n    <tr>\n      <th>count</th>\n      <td>11673.000000</td>\n      <td>1.167300e+04</td>\n      <td>1.167300e+04</td>\n      <td>11673.000000</td>\n      <td>11673.000000</td>\n      <td>11673.000000</td>\n      <td>11615.000000</td>\n      <td>11673.000000</td>\n      <td>11673.000000</td>\n      <td>11673.000000</td>\n      <td>11673.000000</td>\n    </tr>\n    <tr>\n      <th>mean</th>\n      <td>146537.555984</td>\n      <td>3.793532e+06</td>\n      <td>3.631944e+06</td>\n      <td>5.900711</td>\n      <td>98450.725178</td>\n      <td>114569.388675</td>\n      <td>1.498743</td>\n      <td>2.453737</td>\n      <td>319282.150947</td>\n      <td>463647.512465</td>\n      <td>0.613296</td>\n    </tr>\n    <tr>\n      <th>std</th>\n      <td>79155.663014</td>\n      <td>1.055483e+06</td>\n      <td>1.024268e+06</td>\n      <td>2.946809</td>\n      <td>58178.981588</td>\n      <td>62101.229537</td>\n      <td>1.315884</td>\n      <td>0.758359</td>\n      <td>87511.737025</td>\n      <td>143916.491420</td>\n      <td>0.487016</td>\n    </tr>\n    <tr>\n      <th>min</th>\n      <td>9755.000000</td>\n      <td>5.621600e+04</td>\n      <td>7.080000e+04</td>\n      <td>1.000000</td>\n      <td>41588.000000</td>\n      <td>41759.000000</td>\n      <td>0.000000</td>\n      <td>1.000000</td>\n      <td>4616.000000</td>\n      <td>17673.000000</td>\n      <td>0.000000</td>\n    </tr>\n    <tr>\n      <th>25%</th>\n      <td>76517.000000</td>\n      <td>3.112961e+06</td>\n      <td>2.889212e+06</td>\n      <td>4.000000</td>\n      <td>58683.000000</td>\n      <td>60981.000000</td>\n      <td>0.000000</td>\n      <td>2.000000</td>\n      <td>254880.000000</td>\n      <td>338480.000000</td>\n      <td>0.000000</td>\n    </tr>\n    <tr>\n      <th>50%</th>\n      <td>139999.000000</td>\n      <td>4.114034e+06</td>\n      <td>4.065770e+06</td>\n      <td>6.000000</td>\n      <td>58701.000000</td>\n      <td>61318.000000</td>\n      <td>2.000000</td>\n      <td>2.000000</td>\n      <td>358009.000000</td>\n      <td>524225.000000</td>\n      <td>1.000000</td>\n    </tr>\n    <tr>\n      <th>75%</th>\n      <td>220570.000000</td>\n      <td>4.624129e+06</td>\n      <td>4.400427e+06</td>\n      <td>8.000000</td>\n      <td>164428.000000</td>\n      <td>179514.000000</td>\n      <td>2.000000</td>\n      <td>3.000000</td>\n      <td>384954.000000</td>\n      <td>574593.000000</td>\n      <td>1.000000</td>\n    </tr>\n    <tr>\n      <th>max</th>\n      <td>374372.000000</td>\n      <td>5.425883e+06</td>\n      <td>5.247347e+06</td>\n      <td>15.000000</td>\n      <td>207435.000000</td>\n      <td>226348.000000</td>\n      <td>4.000000</td>\n      <td>4.000000</td>\n      <td>454338.000000</td>\n      <td>701407.000000</td>\n      <td>1.000000</td>\n    </tr>\n  </tbody>\n</table>\n</div>"
     },
     "execution_count": 16,
     "metadata": {},
     "output_type": "execute_result"
    }
   ],
   "source": [
    "good_questions.describe()"
   ],
   "metadata": {
    "collapsed": false,
    "pycharm": {
     "name": "#%%\n"
    }
   }
  },
  {
   "cell_type": "code",
   "execution_count": 17,
   "outputs": [
    {
     "data": {
      "text/plain": "QuestionId\n207434    0.793612\n58709     0.790476\n58721     0.787313\n58683     0.771277\n58707     0.765079\n58588     0.762274\n164428    0.750221\n184989    0.729508\n169687    0.728205\n58684     0.723404\n184985    0.713115\n58701     0.707775\n169677    0.704663\n169680    0.704082\n58687     0.694149\n58708     0.688889\n169685    0.675393\n58617     0.666667\n169681    0.651934\n58712     0.622074\n58698     0.616622\n58686     0.598404\n58700     0.597855\n169683    0.591398\n169695    0.569231\n58676     0.565891\n169694    0.563725\n58678     0.545220\n207435    0.434889\n169678    0.396739\n58675     0.387597\n58690     0.377660\n58691     0.332447\n41588     0.324357\n184993    0.245902\nName: IsCorrect, dtype: float64"
     },
     "execution_count": 17,
     "metadata": {},
     "output_type": "execute_result"
    }
   ],
   "source": [
    "good_questions.groupby('QuestionId')['IsCorrect'].mean().sort_values(ascending=False)"
   ],
   "metadata": {
    "collapsed": false,
    "pycharm": {
     "name": "#%%\n"
    }
   }
  },
  {
   "cell_type": "code",
   "execution_count": 18,
   "outputs": [
    {
     "data": {
      "text/plain": "11673"
     },
     "execution_count": 18,
     "metadata": {},
     "output_type": "execute_result"
    }
   ],
   "source": [
    "len(good_questions)"
   ],
   "metadata": {
    "collapsed": false,
    "pycharm": {
     "name": "#%%\n"
    }
   }
  },
  {
   "cell_type": "code",
   "execution_count": 20,
   "outputs": [],
   "source": [
    "data_path = \"../../data/x_nokc_hard/CS-Question-Results6.csv\"\n",
    "good_questions.to_csv(data_path)"
   ],
   "metadata": {
    "collapsed": false,
    "pycharm": {
     "name": "#%%\n"
    }
   }
  },
  {
   "cell_type": "code",
   "execution_count": null,
   "outputs": [],
   "source": [],
   "metadata": {
    "collapsed": false,
    "pycharm": {
     "name": "#%%\n"
    }
   }
  }
 ],
 "metadata": {
  "kernelspec": {
   "display_name": "Python 3",
   "language": "python",
   "name": "python3"
  },
  "language_info": {
   "codemirror_mode": {
    "name": "ipython",
    "version": 2
   },
   "file_extension": ".py",
   "mimetype": "text/x-python",
   "name": "python",
   "nbconvert_exporter": "python",
   "pygments_lexer": "ipython2",
   "version": "2.7.6"
  }
 },
 "nbformat": 4,
 "nbformat_minor": 0
}