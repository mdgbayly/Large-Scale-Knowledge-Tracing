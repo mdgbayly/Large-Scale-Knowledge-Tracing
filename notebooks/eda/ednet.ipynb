{
 "cells": [
  {
   "cell_type": "code",
   "execution_count": 2,
   "metadata": {
    "collapsed": true,
    "pycharm": {
     "name": "#%%\n"
    }
   },
   "outputs": [],
   "source": [
    "# General imports\n",
    "import sys\n",
    "sys.path.append(\"..\")\n",
    "\n",
    "import time\n",
    "import numpy as np\n",
    "import pandas as pd"
   ]
  },
  {
   "cell_type": "markdown",
   "source": [
    "## Load data"
   ],
   "metadata": {
    "collapsed": false
   }
  },
  {
   "cell_type": "code",
   "execution_count": null,
   "outputs": [],
   "source": [
    "data_path = \"../../data/ednet_kt3/preparation/preprocessed_data.csv\"\n",
    "df = pd.read_csv(data_path, sep=\"\\t\")\n",
    "df.head()"
   ],
   "metadata": {
    "collapsed": false,
    "pycharm": {
     "name": "#%%\n"
    }
   }
  },
  {
   "cell_type": "code",
   "execution_count": 7,
   "outputs": [
    {
     "data": {
      "text/plain": "user_id              int64\nitem_id              int64\ntimestamp          float64\ncorrect              int64\ns_module             int64\napp_type             int64\nlag_time           float64\nresponse_time      float64\nbundle_id            int64\nunix_time          float64\nrc_total             int64\nrc_part              int64\nrt_total             int64\nrt_part              int64\nvc_total             int64\nvc_part              int64\nvt_total             int64\nvt_part              int64\nvs_total             int64\nvs_part              int64\npart_id              int64\nhashed_skill_id      int64\ndtype: object"
     },
     "execution_count": 7,
     "metadata": {},
     "output_type": "execute_result"
    }
   ],
   "source": [
    "df.dtypes\n"
   ],
   "metadata": {
    "collapsed": false,
    "pycharm": {
     "name": "#%%\n"
    }
   }
  },
  {
   "cell_type": "code",
   "execution_count": 8,
   "outputs": [
    {
     "data": {
      "text/plain": "   user_id  item_id  timestamp  correct  s_module  app_type  lag_time  \\\n0        1     5012     36.703        0         3         1    -1.000   \n1        1     4706     67.413        1         3         1     0.097   \n2        1     4366    138.825        1         3         1     0.090   \n3        1     4829    186.092        0         3         1     0.087   \n4        1     6528    244.059        0         3         1     0.086   \n\n   response_time  bundle_id     unix_time  ...  rt_total  rt_part  vc_total  \\\n0         36.703       3544  1.565096e+09  ...         0        0         0   \n1         23.681       3238  1.565096e+09  ...         0        0         0   \n2         66.975       2898  1.565096e+09  ...         0        0         0   \n3         41.349       3361  1.565096e+09  ...         0        0         0   \n4         53.933       5060  1.565096e+09  ...         0        0         0   \n\n   vc_part  vt_total  vt_part  vs_total  vs_part  part_id  hashed_skill_id  \n0        0         0        0         0        0        5             1005  \n1        0         0        0         0        0        5             1035  \n2        0         0        0         0        0        5             1029  \n3        0         0        0         0        0        5             1033  \n4        0         0        0         0        0        5             1054  \n\n[5 rows x 22 columns]",
      "text/html": "<div>\n<style scoped>\n    .dataframe tbody tr th:only-of-type {\n        vertical-align: middle;\n    }\n\n    .dataframe tbody tr th {\n        vertical-align: top;\n    }\n\n    .dataframe thead th {\n        text-align: right;\n    }\n</style>\n<table border=\"1\" class=\"dataframe\">\n  <thead>\n    <tr style=\"text-align: right;\">\n      <th></th>\n      <th>user_id</th>\n      <th>item_id</th>\n      <th>timestamp</th>\n      <th>correct</th>\n      <th>s_module</th>\n      <th>app_type</th>\n      <th>lag_time</th>\n      <th>response_time</th>\n      <th>bundle_id</th>\n      <th>unix_time</th>\n      <th>...</th>\n      <th>rt_total</th>\n      <th>rt_part</th>\n      <th>vc_total</th>\n      <th>vc_part</th>\n      <th>vt_total</th>\n      <th>vt_part</th>\n      <th>vs_total</th>\n      <th>vs_part</th>\n      <th>part_id</th>\n      <th>hashed_skill_id</th>\n    </tr>\n  </thead>\n  <tbody>\n    <tr>\n      <th>0</th>\n      <td>1</td>\n      <td>5012</td>\n      <td>36.703</td>\n      <td>0</td>\n      <td>3</td>\n      <td>1</td>\n      <td>-1.000</td>\n      <td>36.703</td>\n      <td>3544</td>\n      <td>1.565096e+09</td>\n      <td>...</td>\n      <td>0</td>\n      <td>0</td>\n      <td>0</td>\n      <td>0</td>\n      <td>0</td>\n      <td>0</td>\n      <td>0</td>\n      <td>0</td>\n      <td>5</td>\n      <td>1005</td>\n    </tr>\n    <tr>\n      <th>1</th>\n      <td>1</td>\n      <td>4706</td>\n      <td>67.413</td>\n      <td>1</td>\n      <td>3</td>\n      <td>1</td>\n      <td>0.097</td>\n      <td>23.681</td>\n      <td>3238</td>\n      <td>1.565096e+09</td>\n      <td>...</td>\n      <td>0</td>\n      <td>0</td>\n      <td>0</td>\n      <td>0</td>\n      <td>0</td>\n      <td>0</td>\n      <td>0</td>\n      <td>0</td>\n      <td>5</td>\n      <td>1035</td>\n    </tr>\n    <tr>\n      <th>2</th>\n      <td>1</td>\n      <td>4366</td>\n      <td>138.825</td>\n      <td>1</td>\n      <td>3</td>\n      <td>1</td>\n      <td>0.090</td>\n      <td>66.975</td>\n      <td>2898</td>\n      <td>1.565096e+09</td>\n      <td>...</td>\n      <td>0</td>\n      <td>0</td>\n      <td>0</td>\n      <td>0</td>\n      <td>0</td>\n      <td>0</td>\n      <td>0</td>\n      <td>0</td>\n      <td>5</td>\n      <td>1029</td>\n    </tr>\n    <tr>\n      <th>3</th>\n      <td>1</td>\n      <td>4829</td>\n      <td>186.092</td>\n      <td>0</td>\n      <td>3</td>\n      <td>1</td>\n      <td>0.087</td>\n      <td>41.349</td>\n      <td>3361</td>\n      <td>1.565096e+09</td>\n      <td>...</td>\n      <td>0</td>\n      <td>0</td>\n      <td>0</td>\n      <td>0</td>\n      <td>0</td>\n      <td>0</td>\n      <td>0</td>\n      <td>0</td>\n      <td>5</td>\n      <td>1033</td>\n    </tr>\n    <tr>\n      <th>4</th>\n      <td>1</td>\n      <td>6528</td>\n      <td>244.059</td>\n      <td>0</td>\n      <td>3</td>\n      <td>1</td>\n      <td>0.086</td>\n      <td>53.933</td>\n      <td>5060</td>\n      <td>1.565096e+09</td>\n      <td>...</td>\n      <td>0</td>\n      <td>0</td>\n      <td>0</td>\n      <td>0</td>\n      <td>0</td>\n      <td>0</td>\n      <td>0</td>\n      <td>0</td>\n      <td>5</td>\n      <td>1054</td>\n    </tr>\n  </tbody>\n</table>\n<p>5 rows × 22 columns</p>\n</div>"
     },
     "execution_count": 8,
     "metadata": {},
     "output_type": "execute_result"
    }
   ],
   "source": [
    "df.head()"
   ],
   "metadata": {
    "collapsed": false,
    "pycharm": {
     "name": "#%%\n"
    }
   }
  },
  {
   "cell_type": "code",
   "execution_count": null,
   "outputs": [],
   "source": [],
   "metadata": {
    "collapsed": false,
    "pycharm": {
     "name": "#%%\n"
    }
   }
  }
 ],
 "metadata": {
  "kernelspec": {
   "display_name": "Python 3",
   "language": "python",
   "name": "python3"
  },
  "language_info": {
   "codemirror_mode": {
    "name": "ipython",
    "version": 2
   },
   "file_extension": ".py",
   "mimetype": "text/x-python",
   "name": "python",
   "nbconvert_exporter": "python",
   "pygments_lexer": "ipython2",
   "version": "2.7.6"
  }
 },
 "nbformat": 4,
 "nbformat_minor": 0
}