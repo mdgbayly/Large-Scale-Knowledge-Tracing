{
 "cells": [
  {
   "cell_type": "code",
   "execution_count": 3,
   "metadata": {
    "collapsed": true
   },
   "outputs": [],
   "source": [
    "# General imports\n",
    "import sys\n",
    "sys.path.append(\"..\")\n",
    "\n",
    "import time\n",
    "import numpy as np\n",
    "import pandas as pd"
   ]
  },
  {
   "cell_type": "markdown",
   "source": [
    "## Load data"
   ],
   "metadata": {
    "collapsed": false
   }
  },
  {
   "cell_type": "code",
   "execution_count": 15,
   "outputs": [
    {
     "data": {
      "text/plain": "   user_id  user_age  gender  premium  item_id     unix_time  timestamp  \\\n0        0        12       2      1.0    18505  1.539630e+09  3841740.0   \n1        0        12       2      1.0    20691  1.539630e+09  3841740.0   \n2        0        12       2      1.0    16312  1.539630e+09  3841740.0   \n3        0        12       2      1.0     8675  1.539630e+09  3841740.0   \n4        0        12       2      1.0     4218  1.539630e+09  3841800.0   \n\n   AnswerId  bundle_id  teacher_id  s_module  confidence  correct  \\\n0   2303485        751        3494         1        -1.0        1   \n1  18286965        751        3494         1        -1.0        1   \n2  13148472        751        3494         1        -1.0        1   \n3   9298247        751        3494         1        -1.0        1   \n4  18800302        567        3494        11        -1.0        1   \n\n   hashed_skill_id  \n0               69  \n1               69  \n2               69  \n3               69  \n4               68  ",
      "text/html": "<div>\n<style scoped>\n    .dataframe tbody tr th:only-of-type {\n        vertical-align: middle;\n    }\n\n    .dataframe tbody tr th {\n        vertical-align: top;\n    }\n\n    .dataframe thead th {\n        text-align: right;\n    }\n</style>\n<table border=\"1\" class=\"dataframe\">\n  <thead>\n    <tr style=\"text-align: right;\">\n      <th></th>\n      <th>user_id</th>\n      <th>user_age</th>\n      <th>gender</th>\n      <th>premium</th>\n      <th>item_id</th>\n      <th>unix_time</th>\n      <th>timestamp</th>\n      <th>AnswerId</th>\n      <th>bundle_id</th>\n      <th>teacher_id</th>\n      <th>s_module</th>\n      <th>confidence</th>\n      <th>correct</th>\n      <th>hashed_skill_id</th>\n    </tr>\n  </thead>\n  <tbody>\n    <tr>\n      <th>0</th>\n      <td>0</td>\n      <td>12</td>\n      <td>2</td>\n      <td>1.0</td>\n      <td>18505</td>\n      <td>1.539630e+09</td>\n      <td>3841740.0</td>\n      <td>2303485</td>\n      <td>751</td>\n      <td>3494</td>\n      <td>1</td>\n      <td>-1.0</td>\n      <td>1</td>\n      <td>69</td>\n    </tr>\n    <tr>\n      <th>1</th>\n      <td>0</td>\n      <td>12</td>\n      <td>2</td>\n      <td>1.0</td>\n      <td>20691</td>\n      <td>1.539630e+09</td>\n      <td>3841740.0</td>\n      <td>18286965</td>\n      <td>751</td>\n      <td>3494</td>\n      <td>1</td>\n      <td>-1.0</td>\n      <td>1</td>\n      <td>69</td>\n    </tr>\n    <tr>\n      <th>2</th>\n      <td>0</td>\n      <td>12</td>\n      <td>2</td>\n      <td>1.0</td>\n      <td>16312</td>\n      <td>1.539630e+09</td>\n      <td>3841740.0</td>\n      <td>13148472</td>\n      <td>751</td>\n      <td>3494</td>\n      <td>1</td>\n      <td>-1.0</td>\n      <td>1</td>\n      <td>69</td>\n    </tr>\n    <tr>\n      <th>3</th>\n      <td>0</td>\n      <td>12</td>\n      <td>2</td>\n      <td>1.0</td>\n      <td>8675</td>\n      <td>1.539630e+09</td>\n      <td>3841740.0</td>\n      <td>9298247</td>\n      <td>751</td>\n      <td>3494</td>\n      <td>1</td>\n      <td>-1.0</td>\n      <td>1</td>\n      <td>69</td>\n    </tr>\n    <tr>\n      <th>4</th>\n      <td>0</td>\n      <td>12</td>\n      <td>2</td>\n      <td>1.0</td>\n      <td>4218</td>\n      <td>1.539630e+09</td>\n      <td>3841800.0</td>\n      <td>18800302</td>\n      <td>567</td>\n      <td>3494</td>\n      <td>11</td>\n      <td>-1.0</td>\n      <td>1</td>\n      <td>68</td>\n    </tr>\n  </tbody>\n</table>\n</div>"
     },
     "execution_count": 15,
     "metadata": {},
     "output_type": "execute_result"
    }
   ],
   "source": [
    "data_path = \"../../data/eedi/preparation/preprocessed_data.csv\"\n",
    "df = pd.read_csv(data_path, sep=\"\\t\")\n",
    "df.head()"
   ],
   "metadata": {
    "collapsed": false,
    "pycharm": {
     "name": "#%%\n"
    }
   }
  },
  {
   "cell_type": "code",
   "execution_count": 13,
   "outputs": [],
   "source": [
    "pd.set_option('display.max_rows', 300)\n"
   ],
   "metadata": {
    "collapsed": false,
    "pycharm": {
     "name": "#%%\n"
    }
   }
  },
  {
   "cell_type": "code",
   "execution_count": 17,
   "outputs": [
    {
     "data": {
      "text/plain": "user_id              int64\nuser_age             int64\ngender               int64\npremium            float64\nitem_id              int64\nunix_time          float64\ntimestamp          float64\nAnswerId             int64\nbundle_id            int64\nteacher_id           int64\ns_module             int64\nconfidence         float64\ncorrect              int64\nhashed_skill_id      int64\ndtype: object"
     },
     "execution_count": 17,
     "metadata": {},
     "output_type": "execute_result"
    }
   ],
   "source": [
    "df.dtypes\n"
   ],
   "metadata": {
    "collapsed": false,
    "pycharm": {
     "name": "#%%\n"
    }
   }
  },
  {
   "cell_type": "code",
   "execution_count": 18,
   "outputs": [
    {
     "data": {
      "text/plain": "   user_id  user_age  gender  premium  item_id     unix_time  timestamp  \\\n0        0        12       2      1.0    18505  1.539630e+09  3841740.0   \n1        0        12       2      1.0    20691  1.539630e+09  3841740.0   \n2        0        12       2      1.0    16312  1.539630e+09  3841740.0   \n3        0        12       2      1.0     8675  1.539630e+09  3841740.0   \n4        0        12       2      1.0     4218  1.539630e+09  3841800.0   \n\n   AnswerId  bundle_id  teacher_id  s_module  confidence  correct  \\\n0   2303485        751        3494         1        -1.0        1   \n1  18286965        751        3494         1        -1.0        1   \n2  13148472        751        3494         1        -1.0        1   \n3   9298247        751        3494         1        -1.0        1   \n4  18800302        567        3494        11        -1.0        1   \n\n   hashed_skill_id  \n0               69  \n1               69  \n2               69  \n3               69  \n4               68  ",
      "text/html": "<div>\n<style scoped>\n    .dataframe tbody tr th:only-of-type {\n        vertical-align: middle;\n    }\n\n    .dataframe tbody tr th {\n        vertical-align: top;\n    }\n\n    .dataframe thead th {\n        text-align: right;\n    }\n</style>\n<table border=\"1\" class=\"dataframe\">\n  <thead>\n    <tr style=\"text-align: right;\">\n      <th></th>\n      <th>user_id</th>\n      <th>user_age</th>\n      <th>gender</th>\n      <th>premium</th>\n      <th>item_id</th>\n      <th>unix_time</th>\n      <th>timestamp</th>\n      <th>AnswerId</th>\n      <th>bundle_id</th>\n      <th>teacher_id</th>\n      <th>s_module</th>\n      <th>confidence</th>\n      <th>correct</th>\n      <th>hashed_skill_id</th>\n    </tr>\n  </thead>\n  <tbody>\n    <tr>\n      <th>0</th>\n      <td>0</td>\n      <td>12</td>\n      <td>2</td>\n      <td>1.0</td>\n      <td>18505</td>\n      <td>1.539630e+09</td>\n      <td>3841740.0</td>\n      <td>2303485</td>\n      <td>751</td>\n      <td>3494</td>\n      <td>1</td>\n      <td>-1.0</td>\n      <td>1</td>\n      <td>69</td>\n    </tr>\n    <tr>\n      <th>1</th>\n      <td>0</td>\n      <td>12</td>\n      <td>2</td>\n      <td>1.0</td>\n      <td>20691</td>\n      <td>1.539630e+09</td>\n      <td>3841740.0</td>\n      <td>18286965</td>\n      <td>751</td>\n      <td>3494</td>\n      <td>1</td>\n      <td>-1.0</td>\n      <td>1</td>\n      <td>69</td>\n    </tr>\n    <tr>\n      <th>2</th>\n      <td>0</td>\n      <td>12</td>\n      <td>2</td>\n      <td>1.0</td>\n      <td>16312</td>\n      <td>1.539630e+09</td>\n      <td>3841740.0</td>\n      <td>13148472</td>\n      <td>751</td>\n      <td>3494</td>\n      <td>1</td>\n      <td>-1.0</td>\n      <td>1</td>\n      <td>69</td>\n    </tr>\n    <tr>\n      <th>3</th>\n      <td>0</td>\n      <td>12</td>\n      <td>2</td>\n      <td>1.0</td>\n      <td>8675</td>\n      <td>1.539630e+09</td>\n      <td>3841740.0</td>\n      <td>9298247</td>\n      <td>751</td>\n      <td>3494</td>\n      <td>1</td>\n      <td>-1.0</td>\n      <td>1</td>\n      <td>69</td>\n    </tr>\n    <tr>\n      <th>4</th>\n      <td>0</td>\n      <td>12</td>\n      <td>2</td>\n      <td>1.0</td>\n      <td>4218</td>\n      <td>1.539630e+09</td>\n      <td>3841800.0</td>\n      <td>18800302</td>\n      <td>567</td>\n      <td>3494</td>\n      <td>11</td>\n      <td>-1.0</td>\n      <td>1</td>\n      <td>68</td>\n    </tr>\n  </tbody>\n</table>\n</div>"
     },
     "execution_count": 18,
     "metadata": {},
     "output_type": "execute_result"
    }
   ],
   "source": [
    "df.head()"
   ],
   "metadata": {
    "collapsed": false,
    "pycharm": {
     "name": "#%%\n"
    }
   }
  },
  {
   "cell_type": "code",
   "execution_count": null,
   "outputs": [],
   "source": [],
   "metadata": {
    "collapsed": false,
    "pycharm": {
     "name": "#%%\n"
    }
   }
  }
 ],
 "metadata": {
  "kernelspec": {
   "display_name": "Python 3",
   "language": "python",
   "name": "python3"
  },
  "language_info": {
   "codemirror_mode": {
    "name": "ipython",
    "version": 2
   },
   "file_extension": ".py",
   "mimetype": "text/x-python",
   "name": "python",
   "nbconvert_exporter": "python",
   "pygments_lexer": "ipython2",
   "version": "2.7.6"
  }
 },
 "nbformat": 4,
 "nbformat_minor": 0
}